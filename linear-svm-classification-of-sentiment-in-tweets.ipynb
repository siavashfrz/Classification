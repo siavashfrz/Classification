{
 "cells": [
  {
   "cell_type": "code",
   "execution_count": 1,
   "metadata": {
    "_cell_guid": "3fb90d46-4cf7-edf1-f149-6fdd49ecabb2"
   },
   "outputs": [],
   "source": [
    "# Before we begin, we supress deprecation warnings resulting from nltk on Kaggle\n",
    "import warnings\n",
    "warnings.filterwarnings(\"ignore\", category=DeprecationWarning) "
   ]
  },
  {
   "cell_type": "markdown",
   "metadata": {
    "_cell_guid": "2595fd17-1db0-1448-d3c9-4bfd1bc33644"
   },
   "source": [
    "# Linear SVM classification of sentiment in tweets about airlines\n",
    "\n",
    "This notebook describes an attempt to classify tweets by sentiment. It describes the initial data exploration, as well as implementation of a linear one-vs-rest Support-Vector-Machine (SVM) classifier."
   ]
  },
  {
   "cell_type": "markdown",
   "metadata": {
    "_cell_guid": "1302dbd6-79d2-0a40-ddeb-7231a2f8e3e8"
   },
   "source": [
    "## What is in the dataset?\n",
    "\n",
    "It's always good to start by exploring the data that we have available. To do this we load the raw csv file using [Pandas][1] and check what the columns are.\n",
    "\n",
    "  [1]: http://pandas.pydata.org/"
   ]
  },
  {
   "cell_type": "code",
   "execution_count": 2,
   "metadata": {
    "_cell_guid": "f5f1a8d6-2465-1f81-50ca-173e7d15d79c"
   },
   "outputs": [
    {
     "data": {
      "text/plain": [
       "['airline',\n",
       " 'review date',\n",
       " 'Type Of Traveller',\n",
       " 'seat type',\n",
       " 'Seat Comfort',\n",
       " 'Cabin Staff Service',\n",
       " 'Food & Beverages',\n",
       " 'Inflight Entertainment',\n",
       " 'Ground Service',\n",
       " 'Wifi & Connectivity',\n",
       " 'Value For Money',\n",
       " 'airline_sentiment',\n",
       " 'Recommended',\n",
       " 'overal rating(10)',\n",
       " 'title',\n",
       " 'review']"
      ]
     },
     "execution_count": 2,
     "metadata": {},
     "output_type": "execute_result"
    }
   ],
   "source": [
    "import pandas as pd\n",
    "tweets = pd.read_csv(\"C:\\\\Users\\\\Win 1809 UEFI\\\\Desktop\\\\0.csv\")\n",
    "list(tweets.columns.values)"
   ]
  },
  {
   "cell_type": "markdown",
   "metadata": {
    "_cell_guid": "39182328-e7fa-1a61-723b-3cbf2517751c"
   },
   "source": [
    "We want to be able to determine the sentiment of a tweet without any other information but the tweet text itself, hence the 'text' column is our focus. Using the text we are going to try and predict 'airline_sentiment'.\n",
    "\n",
    "First we take a look at what a typical record looks like."
   ]
  },
  {
   "cell_type": "code",
   "execution_count": 3,
   "metadata": {
    "_cell_guid": "56171d3a-313c-a946-fb1e-8c86cc3d1966"
   },
   "outputs": [
    {
     "data": {
      "text/html": [
       "<div>\n",
       "<style scoped>\n",
       "    .dataframe tbody tr th:only-of-type {\n",
       "        vertical-align: middle;\n",
       "    }\n",
       "\n",
       "    .dataframe tbody tr th {\n",
       "        vertical-align: top;\n",
       "    }\n",
       "\n",
       "    .dataframe thead th {\n",
       "        text-align: right;\n",
       "    }\n",
       "</style>\n",
       "<table border=\"1\" class=\"dataframe\">\n",
       "  <thead>\n",
       "    <tr style=\"text-align: right;\">\n",
       "      <th></th>\n",
       "      <th>airline</th>\n",
       "      <th>review date</th>\n",
       "      <th>Type Of Traveller</th>\n",
       "      <th>seat type</th>\n",
       "      <th>Seat Comfort</th>\n",
       "      <th>Cabin Staff Service</th>\n",
       "      <th>Food &amp; Beverages</th>\n",
       "      <th>Inflight Entertainment</th>\n",
       "      <th>Ground Service</th>\n",
       "      <th>Wifi &amp; Connectivity</th>\n",
       "      <th>Value For Money</th>\n",
       "      <th>airline_sentiment</th>\n",
       "      <th>Recommended</th>\n",
       "      <th>overal rating(10)</th>\n",
       "      <th>title</th>\n",
       "      <th>review</th>\n",
       "    </tr>\n",
       "  </thead>\n",
       "  <tbody>\n",
       "    <tr>\n",
       "      <th>0</th>\n",
       "      <td>air arabia</td>\n",
       "      <td>2019</td>\n",
       "      <td>Solo Leisure</td>\n",
       "      <td>Economy Class</td>\n",
       "      <td>5.0</td>\n",
       "      <td>5.0</td>\n",
       "      <td>5.0</td>\n",
       "      <td>5.0</td>\n",
       "      <td>5.0</td>\n",
       "      <td>NaN</td>\n",
       "      <td>5</td>\n",
       "      <td>Negative</td>\n",
       "      <td>1</td>\n",
       "      <td>10</td>\n",
       "      <td>I will fly them again</td>\n",
       "      <td>I flew from Beirut to Sharjah on Air Arabia. C...</td>\n",
       "    </tr>\n",
       "    <tr>\n",
       "      <th>1</th>\n",
       "      <td>air arabia</td>\n",
       "      <td>2019</td>\n",
       "      <td>Solo Leisure</td>\n",
       "      <td>Economy Class</td>\n",
       "      <td>1.0</td>\n",
       "      <td>1.0</td>\n",
       "      <td>NaN</td>\n",
       "      <td>NaN</td>\n",
       "      <td>1.0</td>\n",
       "      <td>NaN</td>\n",
       "      <td>1</td>\n",
       "      <td>Negative</td>\n",
       "      <td>0</td>\n",
       "      <td>1</td>\n",
       "      <td>200 riyals as fine for the baggage</td>\n",
       "      <td>I was flying from Hyderabad to Bahrain via Sha...</td>\n",
       "    </tr>\n",
       "    <tr>\n",
       "      <th>2</th>\n",
       "      <td>air arabia</td>\n",
       "      <td>2019</td>\n",
       "      <td>Family Leisure</td>\n",
       "      <td>Economy Class</td>\n",
       "      <td>1.0</td>\n",
       "      <td>1.0</td>\n",
       "      <td>NaN</td>\n",
       "      <td>NaN</td>\n",
       "      <td>1.0</td>\n",
       "      <td>NaN</td>\n",
       "      <td>1</td>\n",
       "      <td>Negative</td>\n",
       "      <td>0</td>\n",
       "      <td>1</td>\n",
       "      <td>Absolute disaster</td>\n",
       "      <td>Not sure how this airline is allowed to legall...</td>\n",
       "    </tr>\n",
       "    <tr>\n",
       "      <th>3</th>\n",
       "      <td>air arabia</td>\n",
       "      <td>2019</td>\n",
       "      <td>Couple Leisure</td>\n",
       "      <td>Economy Class</td>\n",
       "      <td>NaN</td>\n",
       "      <td>NaN</td>\n",
       "      <td>NaN</td>\n",
       "      <td>NaN</td>\n",
       "      <td>NaN</td>\n",
       "      <td>NaN</td>\n",
       "      <td>1</td>\n",
       "      <td>Negative</td>\n",
       "      <td>0</td>\n",
       "      <td>1</td>\n",
       "      <td>nobody let us know about cancellation</td>\n",
       "      <td>We bought two tickets from Prague to Kathmandu...</td>\n",
       "    </tr>\n",
       "    <tr>\n",
       "      <th>4</th>\n",
       "      <td>air arabia</td>\n",
       "      <td>2019</td>\n",
       "      <td>Solo Leisure</td>\n",
       "      <td>Economy Class</td>\n",
       "      <td>3.0</td>\n",
       "      <td>3.0</td>\n",
       "      <td>3.0</td>\n",
       "      <td>1.0</td>\n",
       "      <td>1.0</td>\n",
       "      <td>1.0</td>\n",
       "      <td>3</td>\n",
       "      <td>Negative</td>\n",
       "      <td>0</td>\n",
       "      <td>1</td>\n",
       "      <td>Never using Air Arabia again</td>\n",
       "      <td>Worst experience. I am a student and i was tra...</td>\n",
       "    </tr>\n",
       "  </tbody>\n",
       "</table>\n",
       "</div>"
      ],
      "text/plain": [
       "      airline  review date Type Of Traveller      seat type  Seat Comfort  \\\n",
       "0  air arabia         2019      Solo Leisure  Economy Class           5.0   \n",
       "1  air arabia         2019      Solo Leisure  Economy Class           1.0   \n",
       "2  air arabia         2019    Family Leisure  Economy Class           1.0   \n",
       "3  air arabia         2019    Couple Leisure  Economy Class           NaN   \n",
       "4  air arabia         2019      Solo Leisure  Economy Class           3.0   \n",
       "\n",
       "   Cabin Staff Service  Food & Beverages  Inflight Entertainment  \\\n",
       "0                  5.0               5.0                     5.0   \n",
       "1                  1.0               NaN                     NaN   \n",
       "2                  1.0               NaN                     NaN   \n",
       "3                  NaN               NaN                     NaN   \n",
       "4                  3.0               3.0                     1.0   \n",
       "\n",
       "   Ground Service  Wifi & Connectivity  Value For Money airline_sentiment  \\\n",
       "0             5.0                  NaN                5          Negative   \n",
       "1             1.0                  NaN                1          Negative   \n",
       "2             1.0                  NaN                1          Negative   \n",
       "3             NaN                  NaN                1          Negative   \n",
       "4             1.0                  1.0                3          Negative   \n",
       "\n",
       "   Recommended  overal rating(10)                                  title  \\\n",
       "0            1                 10                  I will fly them again   \n",
       "1            0                  1     200 riyals as fine for the baggage   \n",
       "2            0                  1                      Absolute disaster   \n",
       "3            0                  1  nobody let us know about cancellation   \n",
       "4            0                  1           Never using Air Arabia again   \n",
       "\n",
       "                                              review  \n",
       "0  I flew from Beirut to Sharjah on Air Arabia. C...  \n",
       "1  I was flying from Hyderabad to Bahrain via Sha...  \n",
       "2  Not sure how this airline is allowed to legall...  \n",
       "3  We bought two tickets from Prague to Kathmandu...  \n",
       "4  Worst experience. I am a student and i was tra...  "
      ]
     },
     "execution_count": 3,
     "metadata": {},
     "output_type": "execute_result"
    }
   ],
   "source": [
    "tweets.head()"
   ]
  },
  {
   "cell_type": "markdown",
   "metadata": {
    "_cell_guid": "cb5ee880-d138-4e49-7f09-e902a5318785"
   },
   "source": [
    "Now lets take a look at what sentiments have been found."
   ]
  },
  {
   "cell_type": "code",
   "execution_count": 5,
   "metadata": {
    "_cell_guid": "fbdaecb5-81f1-50c3-4ec7-a34a8262a5cf"
   },
   "outputs": [
    {
     "name": "stdout",
     "output_type": "stream",
     "text": [
      "Negative    2386\n",
      "Positive    1373\n",
      "Neutral     1095\n",
      "Name: airline_sentiment, dtype: int64\n"
     ]
    }
   ],
   "source": [
    "sentiment_counts = tweets.airline_sentiment.value_counts()\n",
    "number_of_tweets = tweets.review.count()\n",
    "print(sentiment_counts)"
   ]
  },
  {
   "cell_type": "markdown",
   "metadata": {
    "_cell_guid": "92085794-bb90-cc78-1e96-f9e7f3f11f84"
   },
   "source": [
    "It turns out that our dataset is unbalanced with significantly more negative than positive tweets. We will focus on the issue of identifying negative tweets, and hence treat neutral and positive as one class. It's good to keep in mind that, while a terrible classifier, if we always guessed a tweet was negative we'd be right 62.7% of the time (9178 of 14640). That clearly wouldn't be a very useful classifier, but worth to remember."
   ]
  },
  {
   "cell_type": "markdown",
   "metadata": {
    "_cell_guid": "e4530f8b-ce34-a6c5-21e1-85db7e173211"
   },
   "source": [
    "# What characterizes text of different sentiments?\n",
    "\n",
    "While we still haven't decided what classification method to use, it's useful to get an idea of how the different texts look. This might be an \"old school\" approach in the age of deep learning, but lets indulge ourselves nevertheless. \n",
    "\n",
    "To explore the data we apply some crude preprocessing. We will tokenize and lemmatize using [Python NLTK][1], and transform to lower case. As words mostly matter in context we'll look at bi-grams instead of just individual tokens.\n",
    "\n",
    "As a way to simplify later inspection of results we will store all processing of data together with it's original form. This means we will extend the Pandas dataframe into which we imported the raw data with new columns as we go along.\n",
    "\n",
    "### Preprocessing\n",
    "Note that we remove the first two tokens as they always contain \"@ airline_name\". We begin by defining our normalization function.\n",
    "\n",
    "\n",
    "  [1]: http://www.nltk.org/"
   ]
  },
  {
   "cell_type": "code",
   "execution_count": 6,
   "metadata": {
    "_cell_guid": "03b28e2b-38d0-b478-856d-25ac7f052dff"
   },
   "outputs": [],
   "source": [
    "import re, nltk\n",
    "from nltk.stem import WordNetLemmatizer\n",
    "from nltk.corpus import stopwords\n",
    "stop_words = set(stopwords.words('english'))\n",
    "wordnet_lemmatizer = WordNetLemmatizer()\n",
    "\n",
    "def normalizer(tweet):\n",
    "    only_letters = re.sub(\"[^a-zA-Z]\", \" \",tweet) \n",
    "    tokens = nltk.word_tokenize(only_letters)[2:]\n",
    "    lower_case = [l.lower() for l in tokens]\n",
    "    filtered_result = list(filter(lambda l: l not in stop_words, lower_case))\n",
    "    lemmas = [wordnet_lemmatizer.lemmatize(t) for t in filtered_result]\n",
    "    return lemmas"
   ]
  },
  {
   "cell_type": "code",
   "execution_count": 6,
   "metadata": {
    "_cell_guid": "e14cfc54-490d-ce20-4031-cd385a6999d0"
   },
   "outputs": [
    {
     "data": {
      "text/plain": [
       "['text', 'airline', 'like']"
      ]
     },
     "execution_count": 6,
     "metadata": {},
     "output_type": "execute_result"
    }
   ],
   "source": [
    "normalizer(\"Here is text about an airline I like.\")"
   ]
  },
  {
   "cell_type": "code",
   "execution_count": 10,
   "metadata": {
    "_cell_guid": "33e1be47-7c09-948b-101d-380ccaeb4196"
   },
   "outputs": [
    {
     "data": {
      "text/html": [
       "<div>\n",
       "<style scoped>\n",
       "    .dataframe tbody tr th:only-of-type {\n",
       "        vertical-align: middle;\n",
       "    }\n",
       "\n",
       "    .dataframe tbody tr th {\n",
       "        vertical-align: top;\n",
       "    }\n",
       "\n",
       "    .dataframe thead th {\n",
       "        text-align: right;\n",
       "    }\n",
       "</style>\n",
       "<table border=\"1\" class=\"dataframe\">\n",
       "  <thead>\n",
       "    <tr style=\"text-align: right;\">\n",
       "      <th></th>\n",
       "      <th>review</th>\n",
       "      <th>normalized_tweet</th>\n",
       "    </tr>\n",
       "  </thead>\n",
       "  <tbody>\n",
       "    <tr>\n",
       "      <th>0</th>\n",
       "      <td>I flew from Beirut to Sharjah on Air Arabia. Check in was easy as I did it on line. I showed my boarding pass on my phone to get through security. At the gate I changed my e boarding pass to a paper ticket as that was required. Although they loaded a lot of cargo we took off on time. I had three seats to my self and was able to sleep. I was given water and dates which were very nice. I will fly them again.</td>\n",
       "      <td>[beirut, sharjah, air, arabia, check, easy, line, showed, boarding, pas, phone, get, security, gate, changed, e, boarding, pas, paper, ticket, required, although, loaded, lot, cargo, took, time, three, seat, self, able, sleep, given, water, date, nice, fly]</td>\n",
       "    </tr>\n",
       "    <tr>\n",
       "      <th>1</th>\n",
       "      <td>I was flying from Hyderabad to Bahrain via Sharjah,while I was transit to Bahrain at Sharjah airport the ground staff of weighed hand bag &amp; laptop was carrying on cabin then demanded to pay 200 riyals as fine for the baggage. I had no chance to debate with them because of their horrible attitude towards passengers. I suggest you don't waste your valuable time &amp; money by flying with Air Arabia for their worst hospitality &amp; cheap flight tickets.</td>\n",
       "      <td>[flying, hyderabad, bahrain, via, sharjah, transit, bahrain, sharjah, airport, ground, staff, weighed, hand, bag, laptop, carrying, cabin, demanded, pay, riyal, fine, baggage, chance, debate, horrible, attitude, towards, passenger, suggest, waste, valuable, time, money, flying, air, arabia, worst, hospitality, cheap, flight, ticket]</td>\n",
       "    </tr>\n",
       "    <tr>\n",
       "      <th>2</th>\n",
       "      <td>Not sure how this airline is allowed to legally operate?? They cancelled flights with no notice and cost us over £500 in additional costs to get to destination. They offered no reason, no compensation and ignored most of the communications between myself and them. Absolute disaster. Never again. They need to be banned from operating within the EU.</td>\n",
       "      <td>[airline, allowed, legally, operate, cancelled, flight, notice, cost, u, additional, cost, get, destination, offered, reason, compensation, ignored, communication, absolute, disaster, never, need, banned, operating, within, eu]</td>\n",
       "    </tr>\n",
       "    <tr>\n",
       "      <th>3</th>\n",
       "      <td>We bought two tickets from Prague to Kathmandu via Sharjah in November 2018. We were supposed to leave April 13, 2019, Ten days before the flight we tried to add some food and to change baggage allowance through internet browser. It must be said that their website does not work optimal in any of the internet browsers. We managed to change baggage allowance but no food. From that reason we log out and tried to add food later but we realized we don´t have access to our PNR anymore. We had still ten days to departure so we tried to contact their customer service via e-mail. Till now we do not have any answer. We contacted sales department in Prague by phone and also personally. They proved our PNR with conclusion we had cancelled both tickets in internet browser ourselves and the flight is full. We are still in shock. Two weeks of holiday, year of preparations for our big way to Himalayas, another friend waiting us in Kathmandu, services paid in Nepal are gone. Mainly, nobody let us know about tickets cancellation. If I wasn´t interested about my PNR, I wouldn´t know yet my tickets are cancelled. As proof they just reproduced conclusion of their IT Department in Sharjah. You have no chance to get in touch with somebody from their central agency in Sharjah. Mainly I would like to point out that I do not get any document confirming ticket cancellation. Welcome in modern times full of IT technologies where human being is a poor individual and those big fish use it for making money</td>\n",
       "      <td>[two, ticket, prague, kathmandu, via, sharjah, november, supposed, leave, april, ten, day, flight, tried, add, food, change, baggage, allowance, internet, browser, must, said, website, work, optimal, internet, browser, managed, change, baggage, allowance, food, reason, log, tried, add, food, later, realized, access, pnr, anymore, still, ten, day, departure, tried, contact, customer, service, via, e, mail, till, answer, contacted, sale, department, prague, phone, also, personally, proved, pnr, conclusion, cancelled, ticket, internet, browser, flight, full, still, shock, two, week, holiday, year, preparation, big, way, himalaya, another, friend, waiting, u, kathmandu, service, paid, nepal, gone, mainly, nobody, let, u, know, ticket, cancellation, interested, pnr, ...]</td>\n",
       "    </tr>\n",
       "    <tr>\n",
       "      <th>4</th>\n",
       "      <td>Worst experience. I am a student and i was travelling from Mumbai to Tbilisi,I was allowed to carry 10 kg hand carriage. So i had my 10 kgs and my laptop bag. In Mumbai Airport it wasn't a issue they let me pass. Once I've reached Sharjah for transit they started weighing my laptop bag and took my ticket away and asked me to pay fine. Never had such a worst experience. Never using Air Arabia again.</td>\n",
       "      <td>[student, travelling, mumbai, tbilisi, allowed, carry, kg, hand, carriage, kg, laptop, bag, mumbai, airport, issue, let, pas, reached, sharjah, transit, started, weighing, laptop, bag, took, ticket, away, asked, pay, fine, never, worst, experience, never, using, air, arabia]</td>\n",
       "    </tr>\n",
       "  </tbody>\n",
       "</table>\n",
       "</div>"
      ],
      "text/plain": [
       "                                                                                                                                                                                                                                                                                                                                                                                                                                                                                                                                                                                                                                                                                                                                                                                                                                                                                                                                                                                                                                                                                                                                                                                                                                                                                                                                                                                                                                                                                                                                                        review  \\\n",
       "0  I flew from Beirut to Sharjah on Air Arabia. Check in was easy as I did it on line. I showed my boarding pass on my phone to get through security. At the gate I changed my e boarding pass to a paper ticket as that was required. Although they loaded a lot of cargo we took off on time. I had three seats to my self and was able to sleep. I was given water and dates which were very nice. I will fly them again.                                                                                                                                                                                                                                                                                                                                                                                                                                                                                                                                                                                                                                                                                                                                                                                                                                                                                                                                                                                                                                                                                                                                     \n",
       "1  I was flying from Hyderabad to Bahrain via Sharjah,while I was transit to Bahrain at Sharjah airport the ground staff of weighed hand bag & laptop was carrying on cabin then demanded to pay 200 riyals as fine for the baggage. I had no chance to debate with them because of their horrible attitude towards passengers. I suggest you don't waste your valuable time & money by flying with Air Arabia for their worst hospitality & cheap flight tickets.                                                                                                                                                                                                                                                                                                                                                                                                                                                                                                                                                                                                                                                                                                                                                                                                                                                                                                                                                                                                                                                                                               \n",
       "2  Not sure how this airline is allowed to legally operate?? They cancelled flights with no notice and cost us over £500 in additional costs to get to destination. They offered no reason, no compensation and ignored most of the communications between myself and them. Absolute disaster. Never again. They need to be banned from operating within the EU.                                                                                                                                                                                                                                                                                                                                                                                                                                                                                                                                                                                                                                                                                                                                                                                                                                                                                                                                                                                                                                                                                                                                                                                                 \n",
       "3  We bought two tickets from Prague to Kathmandu via Sharjah in November 2018. We were supposed to leave April 13, 2019, Ten days before the flight we tried to add some food and to change baggage allowance through internet browser. It must be said that their website does not work optimal in any of the internet browsers. We managed to change baggage allowance but no food. From that reason we log out and tried to add food later but we realized we don´t have access to our PNR anymore. We had still ten days to departure so we tried to contact their customer service via e-mail. Till now we do not have any answer. We contacted sales department in Prague by phone and also personally. They proved our PNR with conclusion we had cancelled both tickets in internet browser ourselves and the flight is full. We are still in shock. Two weeks of holiday, year of preparations for our big way to Himalayas, another friend waiting us in Kathmandu, services paid in Nepal are gone. Mainly, nobody let us know about tickets cancellation. If I wasn´t interested about my PNR, I wouldn´t know yet my tickets are cancelled. As proof they just reproduced conclusion of their IT Department in Sharjah. You have no chance to get in touch with somebody from their central agency in Sharjah. Mainly I would like to point out that I do not get any document confirming ticket cancellation. Welcome in modern times full of IT technologies where human being is a poor individual and those big fish use it for making money   \n",
       "4  Worst experience. I am a student and i was travelling from Mumbai to Tbilisi,I was allowed to carry 10 kg hand carriage. So i had my 10 kgs and my laptop bag. In Mumbai Airport it wasn't a issue they let me pass. Once I've reached Sharjah for transit they started weighing my laptop bag and took my ticket away and asked me to pay fine. Never had such a worst experience. Never using Air Arabia again.                                                                                                                                                                                                                                                                                                                                                                                                                                                                                                                                                                                                                                                                                                                                                                                                                                                                                                                                                                                                                                                                                                                                             \n",
       "\n",
       "                                                                                                                                                                                                                                                                                                                                                                                                                                                                                                                                                                                                                                                                                                                                                                                           normalized_tweet  \n",
       "0  [beirut, sharjah, air, arabia, check, easy, line, showed, boarding, pas, phone, get, security, gate, changed, e, boarding, pas, paper, ticket, required, although, loaded, lot, cargo, took, time, three, seat, self, able, sleep, given, water, date, nice, fly]                                                                                                                                                                                                                                                                                                                                                                                                                                                                                                                                         \n",
       "1  [flying, hyderabad, bahrain, via, sharjah, transit, bahrain, sharjah, airport, ground, staff, weighed, hand, bag, laptop, carrying, cabin, demanded, pay, riyal, fine, baggage, chance, debate, horrible, attitude, towards, passenger, suggest, waste, valuable, time, money, flying, air, arabia, worst, hospitality, cheap, flight, ticket]                                                                                                                                                                                                                                                                                                                                                                                                                                                            \n",
       "2  [airline, allowed, legally, operate, cancelled, flight, notice, cost, u, additional, cost, get, destination, offered, reason, compensation, ignored, communication, absolute, disaster, never, need, banned, operating, within, eu]                                                                                                                                                                                                                                                                                                                                                                                                                                                                                                                                                                       \n",
       "3  [two, ticket, prague, kathmandu, via, sharjah, november, supposed, leave, april, ten, day, flight, tried, add, food, change, baggage, allowance, internet, browser, must, said, website, work, optimal, internet, browser, managed, change, baggage, allowance, food, reason, log, tried, add, food, later, realized, access, pnr, anymore, still, ten, day, departure, tried, contact, customer, service, via, e, mail, till, answer, contacted, sale, department, prague, phone, also, personally, proved, pnr, conclusion, cancelled, ticket, internet, browser, flight, full, still, shock, two, week, holiday, year, preparation, big, way, himalaya, another, friend, waiting, u, kathmandu, service, paid, nepal, gone, mainly, nobody, let, u, know, ticket, cancellation, interested, pnr, ...]  \n",
       "4  [student, travelling, mumbai, tbilisi, allowed, carry, kg, hand, carriage, kg, laptop, bag, mumbai, airport, issue, let, pas, reached, sharjah, transit, started, weighing, laptop, bag, took, ticket, away, asked, pay, fine, never, worst, experience, never, using, air, arabia]                                                                                                                                                                                                                                                                                                                                                                                                                                                                                                                       "
      ]
     },
     "execution_count": 10,
     "metadata": {},
     "output_type": "execute_result"
    }
   ],
   "source": [
    "pd.set_option('display.max_colwidth', -1) # Setting this so we can see the full content of cells\n",
    "tweets['normalized_tweet'] = tweets.review.apply(normalizer)\n",
    "tweets[['review','normalized_tweet']].head()"
   ]
  },
  {
   "cell_type": "code",
   "execution_count": 11,
   "metadata": {
    "_cell_guid": "5e83d39c-c35d-dc3f-1d24-013810053bc9"
   },
   "outputs": [
    {
     "data": {
      "text/html": [
       "<div>\n",
       "<style scoped>\n",
       "    .dataframe tbody tr th:only-of-type {\n",
       "        vertical-align: middle;\n",
       "    }\n",
       "\n",
       "    .dataframe tbody tr th {\n",
       "        vertical-align: top;\n",
       "    }\n",
       "\n",
       "    .dataframe thead th {\n",
       "        text-align: right;\n",
       "    }\n",
       "</style>\n",
       "<table border=\"1\" class=\"dataframe\">\n",
       "  <thead>\n",
       "    <tr style=\"text-align: right;\">\n",
       "      <th></th>\n",
       "      <th>grams</th>\n",
       "    </tr>\n",
       "  </thead>\n",
       "  <tbody>\n",
       "    <tr>\n",
       "      <th>0</th>\n",
       "      <td>[beirut sharjah, sharjah air, air arabia, arabia check, check easy, easy line, line showed, showed boarding, boarding pas, pas phone, phone get, get security, security gate, gate changed, changed e, e boarding, boarding pas, pas paper, paper ticket, ticket required, required although, although loaded, loaded lot, lot cargo, cargo took, took time, time three, three seat, seat self, self able, able sleep, sleep given, given water, water date, date nice, nice fly, beirut sharjah air, sharjah air arabia, air arabia check, arabia check easy, check easy line, easy line showed, line showed boarding, showed boarding pas, boarding pas phone, pas phone get, phone get security, get security gate, security gate changed, gate changed e, changed e boarding, e boarding pas, boarding pas paper, pas paper ticket, paper ticket required, ticket required although, required although loaded, although loaded lot, loaded lot cargo, lot cargo took, cargo took time, took time three, time three seat, three seat self, seat self able, self able sleep, able sleep given, sleep given water, given water date, water date nice, date nice fly]</td>\n",
       "    </tr>\n",
       "    <tr>\n",
       "      <th>1</th>\n",
       "      <td>[flying hyderabad, hyderabad bahrain, bahrain via, via sharjah, sharjah transit, transit bahrain, bahrain sharjah, sharjah airport, airport ground, ground staff, staff weighed, weighed hand, hand bag, bag laptop, laptop carrying, carrying cabin, cabin demanded, demanded pay, pay riyal, riyal fine, fine baggage, baggage chance, chance debate, debate horrible, horrible attitude, attitude towards, towards passenger, passenger suggest, suggest waste, waste valuable, valuable time, time money, money flying, flying air, air arabia, arabia worst, worst hospitality, hospitality cheap, cheap flight, flight ticket, flying hyderabad bahrain, hyderabad bahrain via, bahrain via sharjah, via sharjah transit, sharjah transit bahrain, transit bahrain sharjah, bahrain sharjah airport, sharjah airport ground, airport ground staff, ground staff weighed, staff weighed hand, weighed hand bag, hand bag laptop, bag laptop carrying, laptop carrying cabin, carrying cabin demanded, cabin demanded pay, demanded pay riyal, pay riyal fine, riyal fine baggage, fine baggage chance, baggage chance debate, chance debate horrible, debate horrible attitude, horrible attitude towards, attitude towards passenger, towards passenger suggest, passenger suggest waste, suggest waste valuable, waste valuable time, valuable time money, time money flying, money flying air, flying air arabia, air arabia worst, arabia worst hospitality, worst hospitality cheap, hospitality cheap flight, cheap flight ticket]</td>\n",
       "    </tr>\n",
       "    <tr>\n",
       "      <th>2</th>\n",
       "      <td>[airline allowed, allowed legally, legally operate, operate cancelled, cancelled flight, flight notice, notice cost, cost u, u additional, additional cost, cost get, get destination, destination offered, offered reason, reason compensation, compensation ignored, ignored communication, communication absolute, absolute disaster, disaster never, never need, need banned, banned operating, operating within, within eu, airline allowed legally, allowed legally operate, legally operate cancelled, operate cancelled flight, cancelled flight notice, flight notice cost, notice cost u, cost u additional, u additional cost, additional cost get, cost get destination, get destination offered, destination offered reason, offered reason compensation, reason compensation ignored, compensation ignored communication, ignored communication absolute, communication absolute disaster, absolute disaster never, disaster never need, never need banned, need banned operating, banned operating within, operating within eu]</td>\n",
       "    </tr>\n",
       "    <tr>\n",
       "      <th>3</th>\n",
       "      <td>[two ticket, ticket prague, prague kathmandu, kathmandu via, via sharjah, sharjah november, november supposed, supposed leave, leave april, april ten, ten day, day flight, flight tried, tried add, add food, food change, change baggage, baggage allowance, allowance internet, internet browser, browser must, must said, said website, website work, work optimal, optimal internet, internet browser, browser managed, managed change, change baggage, baggage allowance, allowance food, food reason, reason log, log tried, tried add, add food, food later, later realized, realized access, access pnr, pnr anymore, anymore still, still ten, ten day, day departure, departure tried, tried contact, contact customer, customer service, service via, via e, e mail, mail till, till answer, answer contacted, contacted sale, sale department, department prague, prague phone, phone also, also personally, personally proved, proved pnr, pnr conclusion, conclusion cancelled, cancelled ticket, ticket internet, internet browser, browser flight, flight full, full still, still shock, shock two, two week, week holiday, holiday year, year preparation, preparation big, big way, way himalaya, himalaya another, another friend, friend waiting, waiting u, u kathmandu, kathmandu service, service paid, paid nepal, nepal gone, gone mainly, mainly nobody, nobody let, let u, u know, know ticket, ticket cancellation, cancellation interested, interested pnr, pnr know, ...]</td>\n",
       "    </tr>\n",
       "    <tr>\n",
       "      <th>4</th>\n",
       "      <td>[student travelling, travelling mumbai, mumbai tbilisi, tbilisi allowed, allowed carry, carry kg, kg hand, hand carriage, carriage kg, kg laptop, laptop bag, bag mumbai, mumbai airport, airport issue, issue let, let pas, pas reached, reached sharjah, sharjah transit, transit started, started weighing, weighing laptop, laptop bag, bag took, took ticket, ticket away, away asked, asked pay, pay fine, fine never, never worst, worst experience, experience never, never using, using air, air arabia, student travelling mumbai, travelling mumbai tbilisi, mumbai tbilisi allowed, tbilisi allowed carry, allowed carry kg, carry kg hand, kg hand carriage, hand carriage kg, carriage kg laptop, kg laptop bag, laptop bag mumbai, bag mumbai airport, mumbai airport issue, airport issue let, issue let pas, let pas reached, pas reached sharjah, reached sharjah transit, sharjah transit started, transit started weighing, started weighing laptop, weighing laptop bag, laptop bag took, bag took ticket, took ticket away, ticket away asked, away asked pay, asked pay fine, pay fine never, fine never worst, never worst experience, worst experience never, experience never using, never using air, using air arabia]</td>\n",
       "    </tr>\n",
       "  </tbody>\n",
       "</table>\n",
       "</div>"
      ],
      "text/plain": [
       "                                                                                                                                                                                                                                                                                                                                                                                                                                                                                                                                                                                                                                                                                                                                                                                                                                                                                                                                                                                                                                                                                                                                                                                                                                                                                                                                                                                                                                                                                                                                           grams\n",
       "0  [beirut sharjah, sharjah air, air arabia, arabia check, check easy, easy line, line showed, showed boarding, boarding pas, pas phone, phone get, get security, security gate, gate changed, changed e, e boarding, boarding pas, pas paper, paper ticket, ticket required, required although, although loaded, loaded lot, lot cargo, cargo took, took time, time three, three seat, seat self, self able, able sleep, sleep given, given water, water date, date nice, nice fly, beirut sharjah air, sharjah air arabia, air arabia check, arabia check easy, check easy line, easy line showed, line showed boarding, showed boarding pas, boarding pas phone, pas phone get, phone get security, get security gate, security gate changed, gate changed e, changed e boarding, e boarding pas, boarding pas paper, pas paper ticket, paper ticket required, ticket required although, required although loaded, although loaded lot, loaded lot cargo, lot cargo took, cargo took time, took time three, time three seat, three seat self, seat self able, self able sleep, able sleep given, sleep given water, given water date, water date nice, date nice fly]                                                                                                                                                                                                                                                                                                                                                                        \n",
       "1  [flying hyderabad, hyderabad bahrain, bahrain via, via sharjah, sharjah transit, transit bahrain, bahrain sharjah, sharjah airport, airport ground, ground staff, staff weighed, weighed hand, hand bag, bag laptop, laptop carrying, carrying cabin, cabin demanded, demanded pay, pay riyal, riyal fine, fine baggage, baggage chance, chance debate, debate horrible, horrible attitude, attitude towards, towards passenger, passenger suggest, suggest waste, waste valuable, valuable time, time money, money flying, flying air, air arabia, arabia worst, worst hospitality, hospitality cheap, cheap flight, flight ticket, flying hyderabad bahrain, hyderabad bahrain via, bahrain via sharjah, via sharjah transit, sharjah transit bahrain, transit bahrain sharjah, bahrain sharjah airport, sharjah airport ground, airport ground staff, ground staff weighed, staff weighed hand, weighed hand bag, hand bag laptop, bag laptop carrying, laptop carrying cabin, carrying cabin demanded, cabin demanded pay, demanded pay riyal, pay riyal fine, riyal fine baggage, fine baggage chance, baggage chance debate, chance debate horrible, debate horrible attitude, horrible attitude towards, attitude towards passenger, towards passenger suggest, passenger suggest waste, suggest waste valuable, waste valuable time, valuable time money, time money flying, money flying air, flying air arabia, air arabia worst, arabia worst hospitality, worst hospitality cheap, hospitality cheap flight, cheap flight ticket]\n",
       "2  [airline allowed, allowed legally, legally operate, operate cancelled, cancelled flight, flight notice, notice cost, cost u, u additional, additional cost, cost get, get destination, destination offered, offered reason, reason compensation, compensation ignored, ignored communication, communication absolute, absolute disaster, disaster never, never need, need banned, banned operating, operating within, within eu, airline allowed legally, allowed legally operate, legally operate cancelled, operate cancelled flight, cancelled flight notice, flight notice cost, notice cost u, cost u additional, u additional cost, additional cost get, cost get destination, get destination offered, destination offered reason, offered reason compensation, reason compensation ignored, compensation ignored communication, ignored communication absolute, communication absolute disaster, absolute disaster never, disaster never need, never need banned, need banned operating, banned operating within, operating within eu]                                                                                                                                                                                                                                                                                                                                                                                                                                                                                               \n",
       "3  [two ticket, ticket prague, prague kathmandu, kathmandu via, via sharjah, sharjah november, november supposed, supposed leave, leave april, april ten, ten day, day flight, flight tried, tried add, add food, food change, change baggage, baggage allowance, allowance internet, internet browser, browser must, must said, said website, website work, work optimal, optimal internet, internet browser, browser managed, managed change, change baggage, baggage allowance, allowance food, food reason, reason log, log tried, tried add, add food, food later, later realized, realized access, access pnr, pnr anymore, anymore still, still ten, ten day, day departure, departure tried, tried contact, contact customer, customer service, service via, via e, e mail, mail till, till answer, answer contacted, contacted sale, sale department, department prague, prague phone, phone also, also personally, personally proved, proved pnr, pnr conclusion, conclusion cancelled, cancelled ticket, ticket internet, internet browser, browser flight, flight full, full still, still shock, shock two, two week, week holiday, holiday year, year preparation, preparation big, big way, way himalaya, himalaya another, another friend, friend waiting, waiting u, u kathmandu, kathmandu service, service paid, paid nepal, nepal gone, gone mainly, mainly nobody, nobody let, let u, u know, know ticket, ticket cancellation, cancellation interested, interested pnr, pnr know, ...]                                     \n",
       "4  [student travelling, travelling mumbai, mumbai tbilisi, tbilisi allowed, allowed carry, carry kg, kg hand, hand carriage, carriage kg, kg laptop, laptop bag, bag mumbai, mumbai airport, airport issue, issue let, let pas, pas reached, reached sharjah, sharjah transit, transit started, started weighing, weighing laptop, laptop bag, bag took, took ticket, ticket away, away asked, asked pay, pay fine, fine never, never worst, worst experience, experience never, never using, using air, air arabia, student travelling mumbai, travelling mumbai tbilisi, mumbai tbilisi allowed, tbilisi allowed carry, allowed carry kg, carry kg hand, kg hand carriage, hand carriage kg, carriage kg laptop, kg laptop bag, laptop bag mumbai, bag mumbai airport, mumbai airport issue, airport issue let, issue let pas, let pas reached, pas reached sharjah, reached sharjah transit, sharjah transit started, transit started weighing, started weighing laptop, weighing laptop bag, laptop bag took, bag took ticket, took ticket away, ticket away asked, away asked pay, asked pay fine, pay fine never, fine never worst, never worst experience, worst experience never, experience never using, never using air, using air arabia]                                                                                                                                                                                                                                                                                            "
      ]
     },
     "execution_count": 11,
     "metadata": {},
     "output_type": "execute_result"
    }
   ],
   "source": [
    "from nltk import ngrams\n",
    "def ngrams(input_list):\n",
    "    #onegrams = input_list\n",
    "    bigrams = [' '.join(t) for t in list(zip(input_list, input_list[1:]))]\n",
    "    trigrams = [' '.join(t) for t in list(zip(input_list, input_list[1:], input_list[2:]))]\n",
    "    return bigrams+trigrams\n",
    "tweets['grams'] = tweets.normalized_tweet.apply(ngrams)\n",
    "tweets[['grams']].head()"
   ]
  },
  {
   "cell_type": "markdown",
   "metadata": {
    "_cell_guid": "c0b51587-a300-8f90-cd30-f44791540f96"
   },
   "source": [
    "And now some counting."
   ]
  },
  {
   "cell_type": "code",
   "execution_count": 14,
   "metadata": {
    "_cell_guid": "3a4c4888-2be9-54d6-9b5b-9b8b336cdfa8"
   },
   "outputs": [],
   "source": [
    "import collections\n",
    "def count_words(input):\n",
    "    cnt = collections.Counter()\n",
    "    for row in input:\n",
    "        for word in row:\n",
    "            cnt[word] += 1\n",
    "    return cnt"
   ]
  },
  {
   "cell_type": "code",
   "execution_count": 41,
   "metadata": {
    "_cell_guid": "c0395d2b-61cb-213e-6c38-e476770a9028"
   },
   "outputs": [
    {
     "data": {
      "text/plain": [
       "nan"
      ]
     },
     "execution_count": 41,
     "metadata": {},
     "output_type": "execute_result"
    }
   ],
   "source": [
    "tweets[(tweets.airline_sentiment == 'negative')][['grams']].apply(count_words)['grams']\n"
   ]
  },
  {
   "cell_type": "markdown",
   "metadata": {
    "_cell_guid": "cdca1e1c-eb02-239f-eb98-dc16e32dbcde"
   },
   "source": [
    "We can already tell there's a pattern here. Sentences like \"cancelled flight\", \"late flight\", \"booking problems\",  \"delayed flight\" stand out clearly. Lets check the positive tweets."
   ]
  },
  {
   "cell_type": "code",
   "execution_count": 19,
   "metadata": {
    "_cell_guid": "aa00dfb3-81e0-980b-cfd2-e56454a612c4"
   },
   "outputs": [
    {
     "data": {
      "text/plain": [
       "nan"
      ]
     },
     "execution_count": 19,
     "metadata": {},
     "output_type": "execute_result"
    }
   ],
   "source": [
    "tweets[(tweets.airline_sentiment == 'positive')][['grams']].apply(count_words)['grams']"
   ]
  },
  {
   "cell_type": "markdown",
   "metadata": {
    "_cell_guid": "e11015ce-3f91-7708-36ab-1ccad7143cfb"
   },
   "source": [
    "Some more good looking patterns here. We can however see that with 3-grams clear patterns are rare. \"great customer service\" occurs 12 times in 2362 positive responses, which really doesn't say much in general. \n",
    "\n",
    "Satisfied that our data looks possible to work with begin to construct our first classifier.\n",
    "\n",
    "# Linear SVM classifier\n",
    "We will build a simple, linear Support-Vector-Machine (SVM) classifier. The classifier will take into account each unique word present in the sentence, as well as all consecutive words. To make this representation useful for our SVM classifier we transform each sentence into a vector. The vector is of the same length as our vocabulary, i.e. the list of all words observed in our training data, with each word representing an entry in the vector. If a particular word is present, that entry in the vector is 1, otherwise 0.\n",
    "\n",
    "To create these vectors we use the CountVectorizer from [sklearn][1]. \n",
    "\n",
    "\n",
    "  [1]: http://scikit-learn.org/stable/tutorial/text_analytics/working_with_text_data.html"
   ]
  },
  {
   "cell_type": "markdown",
   "metadata": {
    "_cell_guid": "13b5d690-eb25-6243-7a40-c06cfa3bf825"
   },
   "source": [
    "## Preparing the data"
   ]
  },
  {
   "cell_type": "code",
   "execution_count": 20,
   "metadata": {
    "_cell_guid": "f16bfa38-fb30-aff1-d53a-54d23b6a4322"
   },
   "outputs": [],
   "source": [
    "import numpy as np\n",
    "from scipy.sparse import hstack\n",
    "from sklearn.feature_extraction.text import CountVectorizer\n",
    "count_vectorizer = CountVectorizer(ngram_range=(1,2))"
   ]
  },
  {
   "cell_type": "code",
   "execution_count": 22,
   "metadata": {
    "_cell_guid": "3a964c4c-c16e-6592-e68e-3f6ef1197fdc"
   },
   "outputs": [],
   "source": [
    "vectorized_data = count_vectorizer.fit_transform(tweets.review)\n",
    "indexed_data = hstack((np.array(range(0,vectorized_data.shape[0]))[:,None], vectorized_data))"
   ]
  },
  {
   "cell_type": "code",
   "execution_count": 24,
   "metadata": {
    "_cell_guid": "457bdfd2-685d-bbc1-699f-1954108dd1d5"
   },
   "outputs": [],
   "source": [
    "def sentiment2target(sentiment):\n",
    "    return {\n",
    "        'Negative': 0,\n",
    "        'Neutral': 1,\n",
    "        'Positive' : 2\n",
    "    }[sentiment]\n",
    "targets = tweets.airline_sentiment.apply(sentiment2target)"
   ]
  },
  {
   "cell_type": "markdown",
   "metadata": {
    "_cell_guid": "f215daf3-d2b9-134b-a371-98ef9bc3c4e7"
   },
   "source": [
    "To check performance of our classifier we want to split our data in to train and test."
   ]
  },
  {
   "cell_type": "code",
   "execution_count": 25,
   "metadata": {
    "_cell_guid": "c99298bd-84e9-d31e-58d1-00dbbdfa83e1"
   },
   "outputs": [],
   "source": [
    "from sklearn.model_selection import train_test_split\n",
    "data_train, data_test, targets_train, targets_test = train_test_split(indexed_data, targets, test_size=0.4, random_state=0)\n",
    "data_train_index = data_train[:,0]\n",
    "data_train = data_train[:,1:]\n",
    "data_test_index = data_test[:,0]\n",
    "data_test = data_test[:,1:]"
   ]
  },
  {
   "cell_type": "markdown",
   "metadata": {
    "_cell_guid": "936edaf6-9b95-44f7-fc0f-80f0699b66aa"
   },
   "source": [
    "## Fitting the classifier\n",
    "\n",
    "We're now ready to fit the classifier to our data. We'll spend more time on hyper parameter tuning later, so for now we just pick some reasonable guesses. Note here that we use the OneVsRestClassifier. This allows us to get the probability distribution over all three classes. Behind the scenes we actually create three classifiers. Each of these classifiers determines the probability that the datapoint belongs to it's corresponding class, or any of the other classes. Hence the name OneVsRest."
   ]
  },
  {
   "cell_type": "code",
   "execution_count": 26,
   "metadata": {
    "_cell_guid": "ed3e70df-a983-fb02-1b47-0499bda60850"
   },
   "outputs": [],
   "source": [
    "from sklearn import svm\n",
    "from sklearn.multiclass import OneVsRestClassifier\n",
    "clf = OneVsRestClassifier(svm.SVC(gamma=0.01, C=100., probability=True, class_weight='balanced', kernel='linear'))\n",
    "clf_output = clf.fit(data_train, targets_train)"
   ]
  },
  {
   "cell_type": "markdown",
   "metadata": {
    "_cell_guid": "3f5a37b6-e56f-036b-e44e-9ec4814cd8d7"
   },
   "source": [
    "## Evaluation of results"
   ]
  },
  {
   "cell_type": "code",
   "execution_count": 27,
   "metadata": {
    "_cell_guid": "1af23c8b-7c12-63f5-260b-9f34d1285064"
   },
   "outputs": [
    {
     "data": {
      "text/plain": [
       "0.5417095777548918"
      ]
     },
     "execution_count": 27,
     "metadata": {},
     "output_type": "execute_result"
    }
   ],
   "source": [
    "clf.score(data_test, targets_test)"
   ]
  },
  {
   "cell_type": "markdown",
   "metadata": {
    "_cell_guid": "6f1e98e8-f816-5e9a-f0f9-957798dfa8c1"
   },
   "source": [
    "It's most likely possible to achieve a higher score with more tuning, or a more advanced approach. Lets check on how it does on a couple of sentences."
   ]
  },
  {
   "cell_type": "code",
   "execution_count": 28,
   "metadata": {
    "_cell_guid": "c8a2059d-c320-c958-613e-0085c791f128"
   },
   "outputs": [
    {
     "data": {
      "text/plain": [
       "array([[0.44742314, 0.21497132, 0.33760554],\n",
       "       [0.38933424, 0.21293726, 0.3977285 ],\n",
       "       [0.46183854, 0.1960791 , 0.34208236],\n",
       "       [0.52294389, 0.20500897, 0.27204714],\n",
       "       [0.50038688, 0.19455051, 0.30506261],\n",
       "       [0.45184917, 0.19888444, 0.34926638],\n",
       "       [0.45500853, 0.20756098, 0.33743049]])"
      ]
     },
     "execution_count": 28,
     "metadata": {},
     "output_type": "execute_result"
    }
   ],
   "source": [
    "sentences = count_vectorizer.transform([\n",
    "    \"What a great airline, the trip was a pleasure!\",\n",
    "    \"My issue was quickly resolved after calling customer support. Thanks!\",\n",
    "    \"What the hell! My flight was cancelled again. This sucks!\",\n",
    "    \"Service was awful. I'll never fly with you again.\",\n",
    "    \"You fuckers lost my luggage. Never again!\",\n",
    "    \"I have mixed feelings about airlines. I don't know what I think.\",\n",
    "    \"\"\n",
    "])\n",
    "clf.predict_proba(sentences)"
   ]
  },
  {
   "cell_type": "markdown",
   "metadata": {
    "_cell_guid": "74935e17-0463-78c9-c8be-e2ba71fdfe21"
   },
   "source": [
    "So while results aren't very impressive overall, we can see that it's doing a good job on these obvious sentences. \n",
    "\n",
    "## What is hard for the classifier?\n",
    "\n",
    "It's interesting to know which sentences are hard. To find out, lets apply the classifier to all our test sentences and sort by the marginal probability."
   ]
  },
  {
   "cell_type": "markdown",
   "metadata": {
    "_cell_guid": "179f152a-dd8b-13ac-3b3a-649b16f0bcf2"
   },
   "source": [
    "Here are some of the hardest sentences."
   ]
  },
  {
   "cell_type": "code",
   "execution_count": 29,
   "metadata": {
    "_cell_guid": "c94ef2e0-bd5d-bfb9-16ac-90459b0d29e0"
   },
   "outputs": [],
   "source": [
    "predictions_on_test_data = clf.predict_proba(data_test)\n",
    "index = np.transpose(np.array([range(0,len(predictions_on_test_data))]))\n",
    "indexed_predictions = np.concatenate((predictions_on_test_data, index), axis=1).tolist()"
   ]
  },
  {
   "cell_type": "code",
   "execution_count": 31,
   "metadata": {
    "_cell_guid": "a1346d01-0e5d-8f01-b364-1523c8665203"
   },
   "outputs": [
    {
     "data": {
      "text/plain": [
       "['Check-in and boarding in Cape Town were smooth. The flight to Dubai on a B777 was pleasant, with a comfortable seat which had adequate storage, and excellent food. The service was efficient but rather formal. The IFE on this flight was quite clunky. At Dubai we were bussed to the terminal, but as there was a dedicated Business Class bus this process was quite painless. Both the terminal itself and the Emirates lounge were very busy just after midnight. The second flight on an A380 was a big step up in luxury, with a more spacious seat, much more storage, more friendly cabin crew and very smooth IFE. Something went wrong with my vegetarian meal order, but it was cheerfully fixed. All in all a good experience.',\n",
       " ' Tallin to Singapore via Istanbul. It was my first time flying with Turkish on long haul flight and I was expecting a good experience. The food was bad on all the flights we had. The A330-300 from Istanbul to Singapore seemed old. The touch screens were not working normally, only with the remote that made navigation uncomfortable. The in-flight entertainment was really good though. It would have been nice if cabin crew would have offered drinks and snacks during the flight in addition to the dinner and breakfast served. On the way back from Singapore to Istanbul we were seated in the isle and it was just so cold, I was sitting with a hat, scarf, sweater, cardigan, blanket on me and my wool coat way over my head and I still got sore throat. ',\n",
       " 'Boarding was smooth and take off on time, because of a typhoon hitting India we had to take a different longer route so the flight took more than 9 hours. We had the new QSuites in business class, they are comfortable but lack storage so I had to put my shoes in the overhead. The food was poor, I choose the Arabic Mezza, they used to offer a full mezza previously, now it is only three selections with a tasteless taboula and hummus that lacked lemon and olive oil. The entertainment system was nice in the movie selection but poor on TV, the toilets are huge on Qatar Airways and very well stocked. Very friendly and attentive cabin staff.',\n",
       " \"This was the 2nd leg of our journey from Gatwick to Ho Chi Minh City with Emirates, the first having been on a A380. We arrived in the morning local time and left in the morning local time. The food on the first leg was ok - not brilliant, but not awful just average. When we got on the next flight we were served a seafood lunch, at 9 am (ish) local time or 6 am as per our body clocks. Needless to say it remained untouched. Can't fathom why a lunch was served so early in the day. The bus from terminal to plane was extraordinarily long and seemed to take for ever but was most definitely at least 20-25 mins. The aircraft itself was definitely very dated and the seats far from the best. All in all it was a distinctly average experience and isn't likely to encourage us to use Emirates in the future. Having said all of that it was relatively cheap for Business class so I guess in this instance you sort of get what you pay for. (Best food to date was on ANA, best seats on Qantas A380)\",\n",
       " \"  Vilnius to Istanbul. Turkish Airlines excelled in cabin service, catering, aircraft and seat comfort. The departure was on time,  aircraft was new (with sky interior lightning) and very clean. There weren't too many passengers. Therefore, there was a free middle seat between me and the other passenger. The seat pitch was fine. In the beginning, I got a chocolate praline. Then we got earbuds (bad quality and shallow sound but it is economy so I am not going to complain) and I managed to watch a full movie during the flight (the screen was pretty large and had good resolution). The food on this short-haul flight was tasty and it included a hot meal (which is rare on European flights) and a complimentary beverage (I recommend Ayran yoghurt and homemade lemonade but you can also take alcoholic drinks). The flight attendants offered tea and coffee. The flight attendants provided top notch service. Overall it was an exceptional experience.\",\n",
       " 'The standard has declined drastically. The previous time I had flown with Emirates before this was in 2011 and it was fantastic, especially the food and service on board. Now, it is disappointing. The food selection was horrible. Snacks and drinks very sparse. The cabin crew took a long time to serve our meals. The Emirates lounge in Kuala Lumpur was not given to Economy passengers for free, unlike in 2011. The inflight entertainment was okay. Some headsets do not work. Flights were not punctual. There was a slight delay in all the flights throughout my journey with Emirates this time. Seat selection was not given for free (like some other airlines) for Economy Saver.',\n",
       " 'Manchester to Bangkok via Doha return, and a superb trip with Qatar Airways. Check in at Manchester business desk took only a few minutes then on to the Escape lounge which was quite full, perhaps one day Qatar will have their own lounge in Manchester and maybe a complimentary Chauffeur service. Boarded and a member of cabin crew asked about drinks while others introduced themselves, always a nice touch, took off virtually on time. A330 is a nice aircraft, small business class section with comfortable seats, decent selection of movies, food very good as usual on Qatar. Arrived Hamad International a few minutes ahead of time and disembarked into airport, no bus. As I had a few hours to spare went to the Al Mourjan lounge until gate for Bangkok advised. Bangkok flight on the A380, some of the departure gates designed with this aircraft in mind as separate business class gate and upstairs lounge to board direct to upper section. Much bigger business section with 48 seats, very comfortable but strange seats no arm rest of the left hand side until you reclined the seat. Good flight, again managed to sleep for a short time before arriving at Bangkok. Return flights just as good despite an 8 hours transit in Doha (more about that in the lounge review) I always get messed up with the different Airbus A330 models but the one from Doha to Manchester was different from the first flight, looked a little older and smaller. I can’t praise the Qatar crews on all four flights enough, brilliant service with maybe the best food on any airline. The only thing that spoilt a perfect trip was that between Bangkok and Manchester my case was damaged in three different areas, it looked like to main damage was done by the wheels of another case.',\n",
       " \"\\xa0Flight to Doha from Istanbul was fine. The seat configuration on this flight was 2x2 in business class and there were 12 business class seats on A321 aircraft. My headset was dysfunctional. After a mundane meal service, I dozed off. We got to Hamad International Airport and proceeded to the Al Mourjan Lounge. The lounge was pretty packed, we were lucky enough to find a table at the restaurant and ordered the fillet steak, disappointing that the steak was overdone. Service was great in the Al Mourjan Lounge. We transferred to the area near the family rooms to take a shower. The lounge staff informed us it was the final call for boarding at our gate so we rushed to find out that boarding haven't commenced yet and there was no separate boarding area for business class. Right after take off, I fell into a slumber. Three hours later, a female cabin crew approached us and asked for our meal preference. I have to commend her for attentively paying attention to what we needed. She was at our beck and call so for that, she deserves proper credits. Cabin crew service was exceptionally five star class. Despite that, they need to step it up when it comes to food selection and quality at lounges and boarding service.\",\n",
       " 'Doha to Barcelona. Clean, spacious seating and friendly service of the crew, the attention to detail was stand out. I had many worried when the plane takes off since my mother was sick. My mother got sick from the claustrophobia and fear of heights for a long time flight But I told this fact to crew, she asked to the passengers the excuse and she took a step for my mother can lie down. In addition, she frequently checked my mother’s condition, and she asked if my mother needs. It might be small kindness because of her duty, but for my family, it was really impressive service. Although the many time goes by, I’d like to compliment the crew at the time.',\n",
       " 'Seat 32K on Turkish Airlines A330-300 from Istanbul to New York. Several rounds of security interrogations for USA bound flights at Istanbul Ataturk were bothersome, but staff polite and spoke English. The boarding process had separate lines for groups A/B/C, in addition to business and elites, etc.  Flight attendants in my section, especially female staff members, remained cheerful and attentive throughout the flight. Food was very good. Smoked salmon with celeriac remoulade, salad, grilled beef kofte with bulgur pilaf, dessert, etc. Bread and drinks were offered along with food service. Refills given if requested. Well-stocked galley snacks. Pre-landing second meal service had a hot entree. Their headphones are of better quality now. Toilets remained in decent condition. Announcements could be better. ']"
      ]
     },
     "execution_count": 31,
     "metadata": {},
     "output_type": "execute_result"
    }
   ],
   "source": [
    "def marginal(p):\n",
    "    top2 = p.argsort()[::-1]\n",
    "    return abs(p[top2[0]]-p[top2[1]])\n",
    "margin = sorted(list(map(lambda p : [marginal(np.array(p[0:3])),p[3]], indexed_predictions)), key=lambda p : p[0])\n",
    "list(map(lambda p : tweets.iloc[data_test_index[int(p[1])].toarray()[0][0]].review, margin[0:10]))"
   ]
  },
  {
   "cell_type": "markdown",
   "metadata": {
    "_cell_guid": "9d28561f-5767-29f8-a49c-85e191b63c4b"
   },
   "source": [
    "and their probability distributions?"
   ]
  },
  {
   "cell_type": "code",
   "execution_count": 32,
   "metadata": {
    "_cell_guid": "fa092618-003a-c2e5-1228-a95aa18337ef"
   },
   "outputs": [
    {
     "data": {
      "text/plain": [
       "[array([0.34523002, 0.30963503, 0.34513496]),\n",
       " array([0.37329894, 0.25320246, 0.3734986 ]),\n",
       " array([0.38429004, 0.3839978 , 0.23171216]),\n",
       " array([0.36435664, 0.27066729, 0.36497607]),\n",
       " array([0.36213288, 0.27645426, 0.36141285]),\n",
       " array([0.38178277, 0.23568127, 0.38253595]),\n",
       " array([0.34533388, 0.31020216, 0.34446396]),\n",
       " array([0.41374828, 0.41285583, 0.17339588]),\n",
       " array([0.40528169, 0.18790892, 0.40680939]),\n",
       " array([0.35714661, 0.28378483, 0.35906856])]"
      ]
     },
     "execution_count": 32,
     "metadata": {},
     "output_type": "execute_result"
    }
   ],
   "source": [
    "list(map(lambda p : predictions_on_test_data[int(p[1])], margin[0:10]))"
   ]
  },
  {
   "cell_type": "markdown",
   "metadata": {
    "_cell_guid": "3d8c9fdd-8e68-0fd1-3f06-bfaaeba4b79f"
   },
   "source": [
    "How about the easiest sentences?"
   ]
  },
  {
   "cell_type": "code",
   "execution_count": 33,
   "metadata": {
    "_cell_guid": "c2468ac1-b7fb-889c-50a3-e5d7af0269d5"
   },
   "outputs": [
    {
     "data": {
      "text/plain": [
       "['  Kilaminjaro to Chicago via Istanbul. My problems began the day before the flight, I had booked a Turkish Airlines award business class ticket using United Mileageplus miles months earlier, but the day before noticed I couldn\\'t select my seat and part of my flights were missing from the itinerary. I called Turkish Airlines to confirm everything was but for some reason I couldn\\'t select my seat, so to arrive to the airport early. I arrive the next day to the airport 3 hours early in Kiliminjaro airport in Tanzania and it turns out there is a massive problem with my ticket. A Turkish airlines agent later said it was \"it was award ticket and NO REC on your onward boarding pass\"\" which I have no idea what it means but the agent was smashing away at the keyboard for hours trying to get me on the flight to the point they had to hold the flight to Istanbul. At the very last minute I was finally I was able to board and the Turkish airlines agent said I shouldn\\'t have any more problems, but once I get to Istanbul I need to get my next boarding pass and that my bag would arrive just fine to Chicago (both of these turned out to be false) Already having a bad day,I was informed that for the duration of the flight I would only receive economy service and meals despite booking a business class ticket. Once I arrived to Istanbul, more problems began as the transfer desks agents were extremely unhelpful just ping ponging me from one desk to the other with no agent willing to print my boarding pass or ticket. As it got closed to boarding time I told a transfer desk agent I\\'m not leaving until they print me my pass which I paid for and I was bound to miss my flight! In the end a desk agent in Istanbul wrote me ticket by hand 30 minutes before the flight was set to take off and told me to run! This ticket got me past security and it seemed everything was ok until I got to the gate and once again they denied me boarding, while they grabbed my passport and the agents again smashing on a computer keys trying to get me boarded. Then they tried to claim that my ticket was only economy until I showed them the receipt, at this point they were once again, holding the next plane up for me. At the very last second they finally let me board the flight to Chicago. Once arriving to Chicago I was once again greeted with more bad news. My bag had not made it so I asked them to ship the bag to Mexico City (where I live). They said I would need to pick it up at the airport \"the next day.\" Well turns out the next day was a whopping 5 days later. When the bag arrived it was completely destroyed. The nightmare doesn\\'t end there. I figured they would be quick to provide compensation over such an incident, especially over an expensive long distance business class ticket but was I wrong. Once I began the process I sent them all relevant details including pictures of my damaged bag, and receipts totalling about $500 for various purchases I had to make for the 5 days I didn\\'t have my bag. Then they said that they couldn\\'t pay me anything for my damaged bag because they needed a \"repair invoice\" when they originally said a financial request will suffice in lieu. At that point I had already thrown my damaged baggage away. ',\n",
       " \"\\xa0I was scheduled to fly yesterday from Atlanta to Chennai via Doha. After all check-in, security clearance process, I was informed that the flight is cancelled while boarding. They didn't send any notifications to mobile or email. They said we need to rebook for next available flight and asked us to check out all luggages. I checked out and was waited at the booking counter line for 2 hours. For the entire Atlanta International airport, they had only one booking counter open and one booking agent available. After one hour of waiting, I got frustrated and called their customer service while staying on the line. I was on call-wait status for 50 minutes before getting hold of someone in their customer service. Customer service agent couldn't rebook me on next day flight unless I'm ready to do a 3 stopper instead of 1 stopper that I booked. I got the same itinerary 2 days later and asked him to book it. He couldn't book me because I was already checked-in and they needed me checked out from airport side. He said he will do all that and call + email me later with confirmation. I never received any call or email till today. I called their customer service again and was able to get hold of someone after 30 minutes wait. I got the same answer today as well. They have asked me to call them again after 4 hours. Not sure how long I should be on hold to get hold of them. And their website still shows the flight status as delayed and not as cancelled. I still didn't receive any delay/cancel notification from them. This is one of the worst experience I had. They are completely understaffed and don't infrastructure in place to handle delays/cancellations.\",\n",
       " '\\xa0I travelled with Emirates Back and fourth to Bali during the Christmas holiday. My experience of the flight was ok, but my experience with the transport of baggage and the customer service was the worst I have ever experienced. I go on a surf trip 3-4 times a year and I always pack my board the same way with allot of bubble wrapper, towels, pillows and a good board bag and I have never had any problems. On the trip down when I unpacked my board I had a few cracks that I had to fix. I called Emirates, and a very rude customer service member said that someone would call me up, of course no one did. But lesson learned. On my way back I packed my board even more carefully and added a fragile sign on the bag. To my chock when I packed up my board on arrival in Amsterdam, it was completely destroyed and rendered it useless. I called Emirates who refuse to take this matter on the telephone but told me they wont cover anything but I could send them a mail. Which I did. In the email I pointed to according to the Montreal convention they are responsible for any damage they cause on the baggage. The response was very simple. \"we are sorry for the broken board but we can and wont do anything about it, and we will not answer any more enquiries regarding this matter\" I have emailed them many times after that but the refuse to answer. My friend travelling to Copenhagen also got his board destroyed and same horrible treatment by Emirates. That’s why I write this review, I want to warn everybody to travel with Emirates! As long as you pay and shut up there is no problem but when they have caused a problem they wont do anything about it. If you Google similar matters you will see that I am not alone in being mistreated by emirates customer service. I will never travel with Emirates again. 0/10 points.',\n",
       " 'We were planning a trip to Perth to see our daughter, tragically my wife fell ill, diagnosed terminal within a few days. Just a few weeks later on the day the flight was leaving, after an Emirates flight reminder, she died in just 7 short weeks. During her illness I tried to cancel the flight and use the money to fly my daughter back. Although I thought I had purchased one return ticket with one set of conditions that allowed cancellation, the return flight unknown to me had its own set of conditions that precluded any refund. After many emails and phone calls I was not able to cancel the flight and get a refund. After family help, with no help from Emirates, we got enough money together get my daughter home, tragically too late. During that time Emirates thanked me for my understanding and refused to help quoting terms and conditions of the return ticket and refused to consider changing a ticket to allow my daughter to fly back. They would retain my money and provide no help. During my wife’s illness MacMillan Cancer Support contacted Emirates on several occasions and attempted to help get my daughter home using the tickets or a refund on the purchased tickets. The same reply was given to MacMillan Cancer Support as was given to me, despite them talking to senior staff. Emirates final email thanked me for my understanding in these difficult times, saying they could do nothing to help. MacMillan Cancer Support wrote to Emirates to express their concerns over the lack of compassion and support, to-date there has been no reply. If you fly with Emirates pray you will not need their help because they will thank you for your understanding and take your money and leave you alone to sort it out.',\n",
       " 'I booked a round trip flight from London to New York JFK with Kuwait Airways. On the first leg of the trip, the flight was delayed for 7 hours without any explanation for the delay. Although this was a bit annoying and unexpected, the airline did provide a hotel and meals, which I appreciated. My major grievance with this airline was the experience for my return flight. Upon arrival at the airport 3 hours before my scheduled departure I was told that the flight had been cancelled and that I had been rebooked on another airline. However, when I went to the new airline to check in, I was told that they did not know what I was talking about, that they had no booking for me, and that Kuwait Airways had not contacted them. I found this to be unprofessional on the part of Kuwait Airways. After literally 2 hours of back and forth and waiting in long queues, the new airline did not accept my rebooking since they were overbooked themselves, and Kuwait Airways essentially told me that they could not rebook me for that day and they could not tell me when they would be able to rebook me, and that I should wait in a hotel they were providing until they called or emailed me with my rebooking information. I found this unacceptable and asked to speak to the supervisor who was unapologetic, unsympathetic, and quite nonchalant about the situation. He eventually gave me a list of customer relations and reservations numbers for me to call and air my grievances. I returned to the airport the next morning and could not find a representative from Kuwait Airways to speak to, furthermore, none of the numbers I received worked. They either rang out or rang to a voicemail that stated that the customer services representative was on holiday and would return on a date that was earlier than the actual date, meaning that he should have been back from holiday already! I could not contact Kuwait Airways, and did not hear from them for 2 days. I eventually bought a return ticket on another airline since I had to be back in the UK in time for other travel arrangements. I did not hear from Kuwait Airways until I was already back in the UK 3 days after the flight was supposed to leave JFK. Since then, I have contacted them by email and phone to request a refund for the return flight that was not rebooked and have been unsuccessful. I know Kuwait Airways is cheap in comparison to others, but the hassle I experienced was not worth it. I would have rather paid more to be guaranteed that I would be able to travel on time and to have a better customer service experience. In the long run, choosing Kuwait Airways eventually cost me more since I ended up having to buy another return ticket anyway. Use this airline at your own risk but I do not recommend them.',\n",
       " '\\xa0I was flying from Prague to Singapore via Dubai and I purposefully chose to fly with Emirates to try a new carrier on that route as it was recommended to me by a friend who had a great experience with them in the past. However, on the day of the flight, I was unpleasantly surprised to find out that the 5.5hr flight from PRG to DXB both ways was serviced by flydubai. As the flight number was starting with EK like all Emirates flights do, and as I did not see any warning about it while purchasing the ticket online, I automatically assumed the whole trip would be with Emirates. Oh boy was I shocked when I found out - I felt totally deceived! And to clarify, I had 3 other options I could have chosen from in the same price category and flight time for that route, but I chose this \"Emirates\" one to give it a try (as I have flown the same route before with Turkish, Qatar, Lufthansa/SIA) - so yes, the excuse by flydubai for all their mediocre and below standard service as their \"efforts to keep prices low\" is just completely wrong - it\\'s not cheap at all. And on a side note, a lady I met in Dubai that was taking the same flight back with flydubai felt exactly the same way and said she would never fly with them again and that she also did not know it was going to be with them either - she was outraged. So, what was the flight like? A complete dread and discomfort, which I would certainly not expect for such a long flight. If it was 1-1.5 hour flight, it would be perhaps acceptable, but certainly not for this long flights - I am shocked that they are not banned from operating such long flights given that they are simply not suited for them. In short, there was much lesser legroom and smaller seats compared to the Emirates ones, no food or drinks provided on the whole trip (unless for a few exceptions - I was one of them and I received a 1.5dl of water in a plastic box and a veggie lasagne and that was it - and it\\'s not like I couldn\\'t have bought something from their onboard shop - the thing is that I was so disgruntled with their services that I did not want to contribute them any more money. And btw I would much rather pay those few extra bucks at the point of buying the ticket for the comfort of having everything included in the price - again, I felt like I was cheated once more, because I do expect much better services on long flights). All the entertainment was paid (again, I would much rather pay those few bucks beforehand to have it included) and no wifi. It was all just a pain. Another huge downside about the experience was the flydubai\\'s distant and extremely low quality terminal 2 in Dubai, where all their flights fly from. Not only that it took 45mins to get to the main Emirates terminal on my way to SG, but it also did not feel safe and the service was really bad - we took some shabby buses that seemed to be for workers at the airport and the drivers were not too compelled to work and to drive us there, so it took another 20mins just waiting on them. Also, on my way back, I was looking forward to doing some last-minute souvenir shopping for my family in the modern part of the airport - and nope, that part of the airport was not possible to access if you were leaving from T2, so I went directly there and it was just bad - one large dirty hallway, and small duty free. Never again - not them, nor Emirates - for the fear that part of the flight would be with flydubai again.',\n",
       " 'I can’t describe how upset I am by being stuck on Fl Dubai plane for 5 hours with no food, drink, in-flight entertainment or internet. I did book Moscow to Hanoi via Dubai specifically to fly with Emirates, that cost me 650USD one way, compared to Aeroflot 650USD/round trip which is direct, modern and safe anyway. I paid twice as much just to have an experience with Emirates. Instead of Emirates plane I found myself in an outdated shabby unsafe little aircraft. I never been send to a low-cost instead of a full service. How is that even possible a company like Emirates co-shares with a lower cost. By co-sharing I mean they stuck me on a lower cost, send one meal, 1 cup of free water and let me carry 30kg of luggage. There was no choice of food and the suggested free dinner, only one option, was not suitable for me, no free snacks available no nothing. I had to buy water and peanuts. I booked a ticket with Emirates for my husband London-Dubai-Hanoi round trip and he had an amazing flight despite his flight was longer and the price was cheaper. I don’t book planes which sell water and sandwiches and I would never in a conscious mind choose Fly Dubai for a 5 hours flight, seats were uncomfortable even for my 5 feet. It was freezing cold the entire time and no blankets available, I couldn’t even hear the announcement it was just cracking noise. The whole experience felt like a charter flight in 90s, I never saw flight attendants just sleeping on the back row on a 5 hours flight before, our departure was also delayed because of late arrival. I couldn’t even charge my phone up to 60% in 5 hours, the equipment was that old! I have noticed that my flight is operated by FlyDubai on behalf of Emirates on my ticket but I have no idea what FlyDubai is and didn’t expect such a con being pulled off by Emirates. FlyDubai is not the same level as Emirates, if I wanted to fly with FlyDubai, in my case Emirates is a middle-man profiting by using the brand to sell cheap flights at high price. I complained to the customer service afterwards but they just blamed me on not researching what FlyDubai is. So I guess they are aware of what they are doing but hope that people will be just tricked and book a ticket because of Emirates brand on it. Second flight Dubai-Hanoi was also pretty awful, just got a sandwich, croissant and an omelette in 7 hours flight, was pretty uneatable, the plane was very shabby as well. And at the check-in Emirates even tried to put me on standby because the plane was overbooked, even though I paid for my tickets 2 months in advance. guess Emirates don’t care about their customers as much as they did.',\n",
       " '  In September 2016 I had a horrible experience with Turkish Airlines. My flight (TK-476) was on 17/09 from Ekaterinburg (Russia) to Barcelona via Istanbul. The time of departure was supposed to be at 7.30 - arriving time to Istanbul at 10.15 and the departure to BCN at 14.40 - so having 4.25 hours would be more than enough to change the plane in Istanbul. Unfortunately the Turkish Airlines delayed the flight in Russia for more than 3 hours. I can understand that there might be some technical problems or something but in that case the company is supposed to \"think\" of its passengers and be more client-oriented which I haven\\'t noticed. The representatives didn\\'t give any explanations regarding the reasons of delay, time of the flight, food, etc. When we finally arrived to Istanbul we still had enough time to catch the plane to BCN (we had 1 hour before the flight) and  they could delay the plane for 15-20 min to let us in (I was not the only passenger - we were like 20 people who found themselves in this situation).  The only thing they said was \"sorry, you have to wait for the next plane\" (additional 5 hours of waiting). They ignored us and our questions. After that I asked for food and I was given some sort of a coupon which was possible to use only in some places in food court. The cheapest ones, as I realized later. So the only thing I managed to have using this coupon was a bottle of water. Therefore sitting in Istanbul airport waiting for the plane for 5 hours I had to spend my money on normal food in a normal place. For the information: before that in Russia I was waiting for 3 hours and nobody informed me about breakfast so again I had to spend my money on food there. My advice to Turkish Airlines:  teach your employees how to communicate with clients and to be more client-oriented. ',\n",
       " '  Kiev to Male via Istanbul. Two days lost and headaches all the way to our wedding. Horrible experience from start to finish with Turkish Airlines on our wedding/honeymoon trip from Kiev to Maldives. Sorry for the lengthy post. I will try to make it as concise as possible. Website and Mobile App issues: After creating my online profile, I needed to update my name to include my middle name, as it shows on my passport. Once my tickets were issued from Expedia, Turkish Airlines website and App couldn\\'t link the ticket to my Miles&Smiles profile because of the name discrepancy. It took several calls and emails to support, and even now it still shows my first name and middle name combined. Couldn\\'t update my rewards number: I mistakenly had the wrong Miles&Smiles number on my Expedia account when I purchased the tickets (copy/pasted without the last digit). Turkish airlines couldn\\'t update my ticket with the correct rewards number. Sure, it was my mistake, but it seemed like a simple request to update my ticket. Flight schedule change: Our flight times from IST to MLE on April 30th change from arriving at 11:50am to arriving 12:15pm, which was not a big deal, but logging into their website and App the system asked me to confirm the change, cancel the flight, or change the flight. There was no option to confirm the change. I couldn\\'t change my flight (which was free of charge). Every time I\\'d select the new flight arriving in MLE at 12:15, the system would say it couldn\\'t find a flight with that time. I made several calls to Turkish Airlines support, and they never helped me clarify if I was confirmed on the changed flight. The best they could do was tell me to contact Expedia and have them re-issue tickets. Between Turkish Airlines and Expedia support, I must have made a half dozen calls regarding this. By the end, Turkish airlines best response was that \"everything should be fine\"\\x9d. All I wanted to know is that everything IS fine\"\\x9d. Cancelled flight from KBP to IST: As we were about to board our flight from KBP to IST on April 29th at 9:30pm, we were told at the gate that our flight was cancelled. \"• It took 6 hours to stand in line for new tickets. Calling customer support, the guy was rude and told me to just wait in line. When calling Expedia\\'s Gold customer support to get me a new flight, they were unable to assist because the Turkish Airlines flight was not showing an updated status, and that the flight was still on-time. Expedia could have helped me get new tickets, but they just needed to confirm the flight was cancelled. Expedia even called Turkish Airlines to get updates, and Turkish Airlines was unable to give them the cancelled status. So, after several calls to Turkish airlines and Expedia, we just continued to wait in line. We eventually got new tickets to IST, which left Kiev at 10am the next day (April 30th) and arrived in IST at 12pm. However, our connection from IST to MLE was at 1:00am that morning on April 30th, arriving in MLE at 12:15pm. The next flight from IST to MLE was at 4:15am on May 1st arriving in MLE at 2:20pm. \"• Turkish Airlines did put us up in a hotel for a few hours, since our new departure wasn\\'t unto 4:15am the next day. But, the customer service representatives in IST airport were all rude and lacked any empathy. The hotel (Ibis Hotel) was a 1-hour drive from the airport The room was dirty. Sheets stained. Hair and bead trimmings in bathroom I had to pay for a visa ($30, not a big deal)',\n",
       " \"Very spacious legroom for economy but frequent Late flights. IFE had a small selection of movies, cabin Crew extremely rude and unprofessional. Ground Staff rude and unhelpful. Transfer experience at Kuwait is confusing and difficult. Kuwait Airport lacks many facilities common in most international airports Review: I initially booked this flight because it was the cheapest option to Dubai, around $60 cheaper than the competition; big mistake. I did not have a single flight with Kuwait, either on my way to Dubai or back that was on time. From JFK, my flight was delayed for 3 hours, causing me to miss my connection to Dubai. They put us in a Hotel on Airport property, which, although had a good view of the apron, was a sub-par hotel. The ground staff do not know how to do their job correctly. They are rude, and the airport lacks proper signage. You are bussed around from terminal to terminal with no real staff presence to guide you. We almost missed our flight to JFK because the gate was labeled Mumbai, so we didn't know that it was intended for New York. Kuwait Airport doesn't even seem qualified to be a domestic airport, lacking proper signage and two distant terminals which you're bussed around in. Ground crew does not care about you, and show no interest or courtesy when dealing with you. The same can be said with the cabin crew. They are rude, and do not know how to treat passengers. The meal timings are horrible, as they leave many passengers extremely hungry for long hours on the plane, and water service is extremely selective. You'd think an airline knows when to give out water and food. They also gave us no details about our stop in Shannon on our way back to JFK and could not be seen for much of the flight. The only good part about the flight was the legroom, which was spacious. However, that is not a reason for booing Kuwait over any other competent airline. Do not book Kuwait, they don't care about customers and lack the competency to even communicate basic necessary facts to customers.\"]"
      ]
     },
     "execution_count": 33,
     "metadata": {},
     "output_type": "execute_result"
    }
   ],
   "source": [
    "list(map(lambda p : tweets.iloc[data_test_index[int(p[1])].toarray()[0][0]].review, margin[-10:]))"
   ]
  },
  {
   "cell_type": "markdown",
   "metadata": {
    "_cell_guid": "d2387867-ac36-8219-0d71-fb0f578d4913"
   },
   "source": [
    "and their probability distributions?"
   ]
  },
  {
   "cell_type": "code",
   "execution_count": 34,
   "metadata": {
    "_cell_guid": "80f2aff9-3273-caab-b9a4-959aebc9d69d"
   },
   "outputs": [
    {
     "data": {
      "text/plain": [
       "[array([0.83927641, 0.15528079, 0.0054428 ]),\n",
       " array([0.80588326, 0.11993946, 0.07417727]),\n",
       " array([0.83598591, 0.14973393, 0.01428016]),\n",
       " array([0.80991653, 0.1116305 , 0.07845297]),\n",
       " array([0.84558568, 0.13788772, 0.0165266 ]),\n",
       " array([0.83249298, 0.11428938, 0.05321764]),\n",
       " array([0.83156732, 0.11326797, 0.05516471]),\n",
       " array([0.83910267, 0.11167507, 0.04922226]),\n",
       " array([0.85328033, 0.08139333, 0.06532634]),\n",
       " array([0.8747255 , 0.09478096, 0.03049353])]"
      ]
     },
     "execution_count": 34,
     "metadata": {},
     "output_type": "execute_result"
    }
   ],
   "source": [
    "list(map(lambda p : predictions_on_test_data[int(p[1])], margin[-10:]))"
   ]
  },
  {
   "cell_type": "markdown",
   "metadata": {
    "_cell_guid": "254f79d4-feee-706a-a2a0-a602069be3cc"
   },
   "source": [
    "Looks like all of the easiest sentences are negative. What is the distribution of certainty across all sentences?"
   ]
  },
  {
   "cell_type": "code",
   "execution_count": 36,
   "metadata": {
    "_cell_guid": "48fe3201-eb49-9617-eeb5-fca45beb657f"
   },
   "outputs": [
    {
     "data": {
      "image/png": "[encoded data removed]",
      "text/plain": [
       "<Figure size 432x288 with 1 Axes>"
      ]
     },
     "metadata": {
      "needs_background": "light"
     },
     "output_type": "display_data"
    }
   ],
   "source": [
    "import matplotlib.pyplot as plt\n",
    "marginal_probs = list(map(lambda p : p[0], margin))\n",
    "n, bins, patches = plt.hist(marginal_probs, 25, facecolor='blue', alpha=0.75)\n",
    "plt.title('Marginal confidence histogram - All data')\n",
    "plt.ylabel('Count')\n",
    "plt.xlabel('Marginal confidence')\n",
    "plt.show()"
   ]
  },
  {
   "cell_type": "markdown",
   "metadata": {
    "_cell_guid": "c3e7841f-d705-d9bc-3dc9-e2117cea3b26"
   },
   "source": [
    "Lets break it down by positive and negative sentiment to see if one is harder than the other.\n",
    "\n",
    "### Positive data"
   ]
  },
  {
   "cell_type": "code",
   "execution_count": 37,
   "metadata": {
    "_cell_guid": "1709f0eb-febe-0161-f1df-ac9585ff580d"
   },
   "outputs": [
    {
     "data": {
      "image/png": "[encoded data removed]",
      "text/plain": [
       "<Figure size 432x288 with 1 Axes>"
      ]
     },
     "metadata": {
      "needs_background": "light"
     },
     "output_type": "display_data"
    }
   ],
   "source": [
    "positive_test_data = list(filter(lambda row : row[0]==2, hstack((targets_test[:,None], data_test)).toarray()))\n",
    "positive_probs = clf.predict_proba(list(map(lambda r : r[1:], positive_test_data)))\n",
    "marginal_positive_probs = list(map(lambda p : marginal(p), positive_probs))\n",
    "n, bins, patches = plt.hist(marginal_positive_probs, 25, facecolor='green', alpha=0.75)\n",
    "plt.title('Marginal confidence histogram - Positive data')\n",
    "plt.ylabel('Count')\n",
    "plt.xlabel('Marginal confidence')\n",
    "plt.show()"
   ]
  },
  {
   "cell_type": "markdown",
   "metadata": {
    "_cell_guid": "98258e2a-fbd7-9e18-b43c-1f2330124e67"
   },
   "source": [
    "### Neutral data"
   ]
  },
  {
   "cell_type": "code",
   "execution_count": 38,
   "metadata": {
    "_cell_guid": "eea28df4-f4a2-0b9b-2547-173935fe551c"
   },
   "outputs": [
    {
     "data": {
      "image/png": "[encoded data removed]",
      "text/plain": [
       "<Figure size 432x288 with 1 Axes>"
      ]
     },
     "metadata": {
      "needs_background": "light"
     },
     "output_type": "display_data"
    }
   ],
   "source": [
    "positive_test_data = list(filter(lambda row : row[0]==1, hstack((targets_test[:,None], data_test)).toarray()))\n",
    "positive_probs = clf.predict_proba(list(map(lambda r : r[1:], positive_test_data)))\n",
    "marginal_positive_probs = list(map(lambda p : marginal(p), positive_probs))\n",
    "n, bins, patches = plt.hist(marginal_positive_probs, 25, facecolor='blue', alpha=0.75)\n",
    "plt.title('Marginal confidence histogram - Neutral data')\n",
    "plt.ylabel('Count')\n",
    "plt.xlabel('Marginal confidence')\n",
    "plt.show()"
   ]
  },
  {
   "cell_type": "markdown",
   "metadata": {
    "_cell_guid": "c43fb9ec-8751-f1e6-24a0-b77f18dacefd"
   },
   "source": [
    "### Negative data"
   ]
  },
  {
   "cell_type": "code",
   "execution_count": 39,
   "metadata": {
    "_cell_guid": "52fda712-b5c7-7bb2-0333-68a888547226"
   },
   "outputs": [
    {
     "data": {
      "image/png": "[encoded data removed]",
      "text/plain": [
       "<Figure size 432x288 with 1 Axes>"
      ]
     },
     "metadata": {
      "needs_background": "light"
     },
     "output_type": "display_data"
    }
   ],
   "source": [
    "negative_test_data = list(filter(lambda row : row[0]==0, hstack((targets_test[:,None], data_test)).toarray()))\n",
    "negative_probs = clf.predict_proba(list(map(lambda r : r[1:], negative_test_data)))\n",
    "marginal_negative_probs = list(map(lambda p : marginal(p), negative_probs))\n",
    "n, bins, patches = plt.hist(marginal_negative_probs, 25, facecolor='red', alpha=0.75)\n",
    "plt.title('Marginal confidence histogram - Negative data')\n",
    "plt.ylabel('Count')\n",
    "plt.xlabel('Marginal confidence')\n",
    "plt.show()"
   ]
  },
  {
   "cell_type": "markdown",
   "metadata": {
    "_cell_guid": "90217d44-58a8-782f-5b68-9ee7032aa9c7"
   },
   "source": [
    "Clearly the positive data is much harder for the classifier. This makes sense since there's a lot less of it. An important challenge in building a better classifier will then be how to handle positive data.\n",
    "\n",
    "A more advanced classifier is described here."
   ]
  }
 ],
 "metadata": {
  "_change_revision": 132,
  "_is_fork": false,
  "kernelspec": {
   "display_name": "Python 3",
   "language": "python",
   "name": "python3"
  },
  "language_info": {
   "codemirror_mode": {
    "name": "ipython",
    "version": 3
   },
   "file_extension": ".py",
   "mimetype": "text/x-python",
   "name": "python",
   "nbconvert_exporter": "python",
   "pygments_lexer": "ipython3",
   "version": "3.7.2"
  }
 },
 "nbformat": 4,
 "nbformat_minor": 1
}
