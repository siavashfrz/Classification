{
 "cells": [
  {
   "cell_type": "markdown",
   "metadata": {},
   "source": [
    "## Loading and plotting the data"
   ]
  },
  {
   "cell_type": "code",
   "execution_count": 37,
   "metadata": {},
   "outputs": [],
   "source": [
    "import numpy as np\n",
    "import pandas as pd\n",
    "\n",
    "df = pd.read_csv(\"C:\\\\Users\\\\Win 1809 UEFI\\\\Desktop\\\\99.csv\", header=0, delimiter=\",\", quoting=0)"
   ]
  },
  {
   "cell_type": "code",
   "execution_count": 39,
   "metadata": {},
   "outputs": [],
   "source": [
    "df.head(4)\n",
    "#Converting the sentiment to numerical data to plot the histogram\n",
    "for i in range(len(df)):\n",
    "    if df.Recommended[i]=='1':\n",
    "        df.loc[i,'Recommended'] = int(1)\n",
    "    elif df.Recommended[i]=='0':\n",
    "        df.loc[i,'Recommended'] = int(-1)\n",
    "  #  elif df.airline_sentiment[i]=='Neutral':\n",
    "   #     df.loc[i,'Sentiment'] = int(0)"
   ]
  },
  {
   "cell_type": "markdown",
   "metadata": {},
   "source": [
    "## Removing mentons and URLs and converting # to _hashtag"
   ]
  },
  {
   "cell_type": "code",
   "execution_count": 41,
   "metadata": {
    "scrolled": true
   },
   "outputs": [],
   "source": [
    "import re\n",
    "regexp_mention = '(?<=^|(?<=[^a-zA-Z0-9-_\\.]))@([A-Za-z]+[A-Za-z0-9]+)'\n",
    "pattern_mention = re.compile(regexp_mention, re.UNICODE | re.IGNORECASE)\n",
    "\n",
    "for i in range(len(df)):\n",
    "    df.loc[i,'review']  = pattern_mention.sub(\"\", df.review[i])\n",
    "#print(df.TextnoMen)"
   ]
  },
  {
   "cell_type": "code",
   "execution_count": 42,
   "metadata": {},
   "outputs": [],
   "source": [
    "regexp_url = 'http[s]?://(?:[a-zA-Z]|[0-9]|[$-_@.&+]|[!*\\(\\),]|(?:%[0-9a-fA-F][0-9a-fA-F]))+'\n",
    "pattern_url = re.compile(regexp_url, re.UNICODE | re.IGNORECASE)\n",
    "\n",
    "for i in range(len(df)):\n",
    "    df.loc[i,'review']  = pattern_url.sub(\"\", df.review[i])"
   ]
  },
  {
   "cell_type": "code",
   "execution_count": 43,
   "metadata": {},
   "outputs": [],
   "source": [
    "regexp_hashtag = '(?<=^|(?<=[^a-zA-Z0-9-_\\.]))#([A-Za-z]+[A-Za-z0-9]+)'\n",
    "pattern_hashtag = re.compile(regexp_hashtag, re.UNICODE | re.IGNORECASE)\n",
    "\n",
    "for i in range(len(df)):\n",
    "    df.loc[i,'review'] = pattern_hashtag.sub(r'hashtag_\\1', df.review[i])"
   ]
  },
  {
   "cell_type": "code",
   "execution_count": 44,
   "metadata": {},
   "outputs": [],
   "source": [
    "from sklearn.feature_extraction.text import CountVectorizer\n",
    "from sklearn.linear_model import LogisticRegression\n",
    "from sklearn.metrics  import accuracy_score, classification_report, confusion_matrix, precision_score, recall_score, f1_score\n",
    "\n",
    "#Creating different datasets based on Airline\n",
    "df = df.sample(frac=1, random_state= 100)\n",
    "\n",
    "#print(df.airline.unique())\n",
    "#dfUnited = df[df.airline=='United']\n",
    "#dfAmerican = df[df.airline=='American']\n",
    "#dfSouthwest = df[df.airline=='Southwest']\n",
    "#dfDelta = df[df.airline=='Delta']\n",
    "#dfUSAir = df[df.airline=='US Airways']\n",
    "#dfVirgin = df[df.airline=='Virgin America']\n"
   ]
  },
  {
   "cell_type": "markdown",
   "metadata": {},
   "source": [
    "## Function for Logistic Regression model with 10-fold cross validation"
   ]
  },
  {
   "cell_type": "code",
   "execution_count": 45,
   "metadata": {},
   "outputs": [],
   "source": [
    "from sklearn.model_selection import KFold\n",
    "def CreateModelLR(df):\n",
    "    \n",
    "    df_text = df['review']\n",
    "    df_sentiment = df['Recommended']\n",
    "    \n",
    "    Accuracylist = []\n",
    "    f1scorelist = []\n",
    "    CVaccuracy = []\n",
    "    CVf1Score = []\n",
    "    \n",
    "    kf = KFold(n_splits=10, shuffle = True, random_state = 2)\n",
    "    \n",
    "    \n",
    "    for i in range(1,10) : \n",
    "        for train, valid in kf.split(df_sentiment):\n",
    "\n",
    "            X_train_text = df_text.iloc[train]\n",
    "            yTrain = df_sentiment.iloc[train]\n",
    "\n",
    "            X_valid_text = df_text.iloc[valid]\n",
    "            yValid = df_sentiment.iloc[valid]\n",
    "\n",
    "            #print(\"Total number of records = %d\" %len(df))\n",
    "            #print(\"Train and Test : %s and %s\" %(yTrain.shape, yValid.shape))\n",
    "\n",
    "            vect = CountVectorizer(binary = False, min_df = 5, stop_words = 'english')\n",
    "\n",
    "            XTrain = vect.fit_transform(X_train_text)\n",
    "            #print(XTrain.shape)\n",
    "\n",
    "            XValid = vect.transform(X_valid_text)\n",
    "            #print(XValid.shape)\n",
    "\n",
    "            LogR = LogisticRegression(C = 5)\n",
    "            LogR.fit(XTrain, yTrain)\n",
    "\n",
    "            Predited = LogR.predict(XValid)\n",
    "\n",
    "            Accuracylist.append(accuracy_score(yValid, Predited))\n",
    "            f1scorelist.append(f1_score(yValid, Predited, average = \"weighted\"))\n",
    "\n",
    "            performance=[]\n",
    "            f1Score = np.array(f1scorelist).mean(0)\n",
    "            Accuracy = np.array(Accuracylist).mean(0)\n",
    "        \n",
    "        CVaccuracy.append(Accuracy)\n",
    "        CVf1Score.append(f1Score)\n",
    "    #performace = [Acuracy,f1Score]\n",
    "    #print(CVaccuracy)\n",
    "    #print(CVf1Score)\n",
    "    minAccidx = np.array(CVaccuracy).argmax()\n",
    "   \n",
    "    airline = set(df.airline)\n",
    "    print(\"LOGISTIC REGRESSION\")\n",
    "    print(\"Airlines = %s ; Best Cross validation Accuracy of the model is %f ; F1-Score is %f\" % (airline,CVaccuracy[minAccidx],CVf1Score[minAccidx]))\n",
    "    print(\"----------------------------------------------------------------------------------------------\")\n",
    "    print(\"\")"
   ]
  },
  {
   "cell_type": "markdown",
   "metadata": {},
   "source": [
    "## Function for Naive Bayes model with 10-fold cross validation"
   ]
  },
  {
   "cell_type": "code",
   "execution_count": 46,
   "metadata": {},
   "outputs": [],
   "source": [
    "from sklearn.naive_bayes import BernoulliNB, MultinomialNB, GaussianNB\n",
    "def CreateModelNB(df):\n",
    "    \n",
    "    df_text = df['review']\n",
    "    df_sentiment = df['Recommended']\n",
    "    \n",
    "    Accuracylist = []\n",
    "    f1scorelist = []\n",
    "    CVaccuracy = []\n",
    "    CVf1Score = []\n",
    "    \n",
    "    kf = KFold(n_splits=10, shuffle = True, random_state = 2)\n",
    "    alpha = [1e-8, 5e-8,1e-7, 5e-7,1e-6, 5e-6,1e-5, 5e-5,1e-4, 5e-4,1e-3, 5e-3,1e-2, 5e-2,1e-1, 5e-1 ]\n",
    "    \n",
    "    for i in alpha : \n",
    "        for train, valid in kf.split(df_sentiment):\n",
    "\n",
    "            X_train_text = df_text.iloc[train]\n",
    "            yTrain = df_sentiment.iloc[train]\n",
    "\n",
    "            X_valid_text = df_text.iloc[valid]\n",
    "            yValid = df_sentiment.iloc[valid]\n",
    "\n",
    "            #print(\"Total number of records = %d\" %len(df))\n",
    "            #print(\"Train and Test : %s and %s\" %(yTrain.shape, yValid.shape))\n",
    "\n",
    "            vect = CountVectorizer(binary = False, min_df = 5, stop_words = 'english')\n",
    "\n",
    "            XTrain = vect.fit_transform(X_train_text)\n",
    "            #print(XTrain.shape)\n",
    "\n",
    "            XValid = vect.transform(X_valid_text)\n",
    "            #print(XValid.shape)\n",
    "\n",
    "            MNB = MultinomialNB(i)\n",
    "            MNB.fit(XTrain, yTrain)\n",
    "\n",
    "            Predited = MNB.predict(XValid)\n",
    "\n",
    "            Accuracylist.append(accuracy_score(yValid, Predited))\n",
    "            f1scorelist.append(f1_score(yValid, Predited, average = \"weighted\"))\n",
    "\n",
    "            performance=[]\n",
    "            f1Score = np.array(f1scorelist).mean(0)\n",
    "            Accuracy = np.array(Accuracylist).mean(0)\n",
    "        \n",
    "        CVaccuracy.append(Accuracy)\n",
    "        CVf1Score.append(f1Score)\n",
    "    #performace = [Acuracy,f1Score]\n",
    "    #print(CVaccuracy)\n",
    "    #print(CVf1Score)\n",
    "    minAccidx = np.array(CVaccuracy).argmax()\n",
    "    \n",
    "    airline = set(df.airline)\n",
    "    print(\"NAIVE BAYES\")\n",
    "    print(\"Airlines = %s ; Best Cross validation Accuracy of the model is %f ; F1-Score is %f\" % (airline,CVaccuracy[minAccidx],CVf1Score[minAccidx]))\n",
    "    print(\"----------------------------------------------------------------------------------------------\")\n",
    "    print(\"\")"
   ]
  },
  {
   "cell_type": "markdown",
   "metadata": {},
   "source": [
    "## All Airlines"
   ]
  },
  {
   "cell_type": "code",
   "execution_count": 47,
   "metadata": {},
   "outputs": [
    {
     "data": {
      "image/png": "[encoded data removed]",
      "text/plain": [
       "<Figure size 432x288 with 1 Axes>"
      ]
     },
     "metadata": {
      "needs_background": "light"
     },
     "output_type": "display_data"
    },
    {
     "name": "stdout",
     "output_type": "stream",
     "text": [
      "LOGISTIC REGRESSION\n",
      "Airlines = {'flydubai', 'kuwait airways', 'Saudi Arabian', 'turkish airlines', 'Qatarairways', 'Royal Jordanian Airlines', 'oman air', 'emirates', 'etihad airways', 'gulf air'} ; Best Cross validation Accuracy of the model is 0.851212 ; F1-Score is 0.851201\n",
      "----------------------------------------------------------------------------------------------\n",
      "\n",
      "NAIVE BAYES\n",
      "Airlines = {'flydubai', 'kuwait airways', 'Saudi Arabian', 'turkish airlines', 'Qatarairways', 'Royal Jordanian Airlines', 'oman air', 'emirates', 'etihad airways', 'gulf air'} ; Best Cross validation Accuracy of the model is 0.850376 ; F1-Score is 0.850103\n",
      "----------------------------------------------------------------------------------------------\n",
      "\n"
     ]
    }
   ],
   "source": [
    "%matplotlib inline\n",
    "import matplotlib.pyplot as plt\n",
    "\n",
    "df['Recommended'].plot.hist()\n",
    "plt.title(\"Recommended plot for all Airlines\")\n",
    "plt.show()\n",
    "CreateModelLR(df)\n",
    "CreateModelNB(df)"
   ]
  },
  {
   "cell_type": "markdown",
   "metadata": {},
   "source": [
    "## Changing the percentage of training data while reserving 20% for test\n",
    "There are two stark observations that can be made from the graph above:\n",
    "1. We can see that the perfomance of both the models improves with the increase in the percentage of the training data. For each of the models, 80% training and 20% test gives the best performance\n",
    "2. It can be notices that overall, logistic regression performs better on this data and gives a higher accuracy at all percentages of training data. "
   ]
  },
  {
   "cell_type": "code",
   "execution_count": 48,
   "metadata": {},
   "outputs": [
    {
     "data": {
      "image/png": "[encoded data removed]",
      "text/plain": [
       "<Figure size 432x288 with 1 Axes>"
      ]
     },
     "metadata": {
      "needs_background": "light"
     },
     "output_type": "display_data"
    }
   ],
   "source": [
    "#Deviding into test and train - Train:test :: 80%:20%\n",
    "\n",
    "def frange(start, stop, step):\n",
    "    i = start\n",
    "    while i < stop:\n",
    "        yield i\n",
    "        i += step\n",
    "\n",
    "AccuracylistLog = []\n",
    "AccuracylistNB = []\n",
    "\n",
    "for i in frange(0.05,0.85,0.05):\n",
    "    X_train_text = df['review'][:int(len(df)*i)]\n",
    "    yTrain = df['Recommended'][:int(len(df)*i)]\n",
    "\n",
    "    X_valid_text = df['review'][int(len(df)*0.8):]\n",
    "    yValid = df['Recommended'][int(len(df)*0.8):]\n",
    "\n",
    "    total = len(X_train_text) + len(X_valid_text)\n",
    "    #print(\"Total number of records = %d\" %total)\n",
    "    #print(\"Train and Test : %s and %s\" %(yTrain.shape, yValid.shape))\n",
    "\n",
    "    vect = CountVectorizer(binary = False, min_df = 5, stop_words = 'english')\n",
    "\n",
    "    XTrain = vect.fit_transform(X_train_text)\n",
    "    #print(XTrain.shape)\n",
    "\n",
    "    XValid = vect.transform(X_valid_text)\n",
    "    #print(XValid.shape)\n",
    "\n",
    "    LogR = LogisticRegression(C = 5)\n",
    "    LogR.fit(XTrain, yTrain)\n",
    "    \n",
    "    MNB = MultinomialNB(1e-5)\n",
    "    MNB.fit(XTrain, yTrain)\n",
    "\n",
    "    PreditedLog = LogR.predict(XValid)\n",
    "    PreditedNB = MNB.predict(XValid)\n",
    "\n",
    "    AccLog = accuracy_score(yValid, PreditedLog)\n",
    "    AccNB = accuracy_score(yValid, PreditedNB)\n",
    "\n",
    "    AccuracylistLog.append(AccLog)\n",
    "    AccuracylistNB.append(AccNB)\n",
    "    \n",
    "\n",
    "AccuracyLog = np.array(AccuracylistLog)\n",
    "AccuracyNB = np.array(AccuracylistNB)\n",
    "\n",
    "xaxis = np.arange(5,85,5)\n",
    "plt.plot(xaxis,AccuracyLog , label = 'Logistic Regression Accuracy')\n",
    "plt.plot(xaxis,AccuracyNB , label = 'Naive Bayes Accuracy')\n",
    "\n",
    "plt.xlabel('Training size in percentage')\n",
    "plt.ylabel('Accuracy')\n",
    "plt.xlim(xaxis.min(), xaxis.max())\n",
    "plt.legend(loc = 'lower right')\n",
    "plt.show()"
   ]
  },
  {
   "cell_type": "code",
   "execution_count": null,
   "metadata": {},
   "outputs": [],
   "source": []
  }
 ],
 "metadata": {
  "kernelspec": {
   "display_name": "Python 3",
   "language": "python",
   "name": "python3"
  },
  "language_info": {
   "codemirror_mode": {
    "name": "ipython",
    "version": 3
   },
   "file_extension": ".py",
   "mimetype": "text/x-python",
   "name": "python",
   "nbconvert_exporter": "python",
   "pygments_lexer": "ipython3",
   "version": "3.8.5"
  }
 },
 "nbformat": 4,
 "nbformat_minor": 2
}
